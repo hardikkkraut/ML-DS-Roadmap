{
 "cells": [
  {
   "cell_type": "markdown",
   "id": "20f4296a",
   "metadata": {
    "papermill": {
     "duration": 0.004736,
     "end_time": "2025-07-04T18:42:54.765973",
     "exception": false,
     "start_time": "2025-07-04T18:42:54.761237",
     "status": "completed"
    },
    "tags": []
   },
   "source": [
    "**This notebook is an exercise in the [Python](https://www.kaggle.com/learn/python) course.  You can reference the tutorial at [this link](https://www.kaggle.com/colinmorris/lists).**\n",
    "\n",
    "---\n"
   ]
  },
  {
   "cell_type": "markdown",
   "id": "41e398dc",
   "metadata": {
    "papermill": {
     "duration": 0.003369,
     "end_time": "2025-07-04T18:42:54.773667",
     "exception": false,
     "start_time": "2025-07-04T18:42:54.770298",
     "status": "completed"
    },
    "tags": []
   },
   "source": [
    "Things get more interesting with lists. You'll apply your new knowledge to solve the questions below. Remember to run the following cell first."
   ]
  },
  {
   "cell_type": "code",
   "execution_count": 1,
   "id": "f0cf0aaa",
   "metadata": {
    "execution": {
     "iopub.execute_input": "2025-07-04T18:42:54.782311Z",
     "iopub.status.busy": "2025-07-04T18:42:54.781888Z",
     "iopub.status.idle": "2025-07-04T18:42:56.919557Z",
     "shell.execute_reply": "2025-07-04T18:42:56.918331Z"
    },
    "papermill": {
     "duration": 2.144284,
     "end_time": "2025-07-04T18:42:56.921530",
     "exception": false,
     "start_time": "2025-07-04T18:42:54.777246",
     "status": "completed"
    },
    "tags": []
   },
   "outputs": [
    {
     "name": "stdout",
     "output_type": "stream",
     "text": [
      "Setup complete.\n"
     ]
    }
   ],
   "source": [
    "from learntools.core import binder; binder.bind(globals())\n",
    "from learntools.python.ex4 import *\n",
    "print('Setup complete.')"
   ]
  },
  {
   "cell_type": "markdown",
   "id": "b863219d",
   "metadata": {
    "papermill": {
     "duration": 0.005344,
     "end_time": "2025-07-04T18:42:56.933499",
     "exception": false,
     "start_time": "2025-07-04T18:42:56.928155",
     "status": "completed"
    },
    "tags": []
   },
   "source": [
    "# 1.\n",
    "\n",
    "Complete the function below according to its docstring."
   ]
  },
  {
   "cell_type": "code",
   "execution_count": 2,
   "id": "65c2f301",
   "metadata": {
    "execution": {
     "iopub.execute_input": "2025-07-04T18:42:56.946304Z",
     "iopub.status.busy": "2025-07-04T18:42:56.945558Z",
     "iopub.status.idle": "2025-07-04T18:42:56.956589Z",
     "shell.execute_reply": "2025-07-04T18:42:56.955511Z"
    },
    "papermill": {
     "duration": 0.020131,
     "end_time": "2025-07-04T18:42:56.958156",
     "exception": false,
     "start_time": "2025-07-04T18:42:56.938025",
     "status": "completed"
    },
    "tags": []
   },
   "outputs": [
    {
     "data": {
      "application/javascript": [
       "parent.postMessage({\"jupyterEvent\": \"custom.exercise_interaction\", \"data\": {\"outcomeType\": 1, \"valueTowardsCompletion\": 0.2, \"interactionType\": 1, \"questionType\": 2, \"questionId\": \"1_SelectSecondItem\", \"learnToolsVersion\": \"0.3.5\", \"failureMessage\": \"\", \"exceptionClass\": \"\", \"trace\": \"\"}}, \"*\")"
      ],
      "text/plain": [
       "<IPython.core.display.Javascript object>"
      ]
     },
     "metadata": {},
     "output_type": "display_data"
    },
    {
     "data": {
      "text/markdown": [
       "<span style=\"color:#33cc33\">Correct</span>"
      ],
      "text/plain": [
       "Correct"
      ]
     },
     "metadata": {},
     "output_type": "display_data"
    }
   ],
   "source": [
    "def select_second(L):\n",
    "    \"\"\"Return the second element of the given list. If the list has no second\n",
    "    element, return None.\n",
    "    \"\"\"\n",
    "    if len (L) >= 2:\n",
    "        return L[1]\n",
    "    pass\n",
    "\n",
    "# Check your answer\n",
    "q1.check()"
   ]
  },
  {
   "cell_type": "code",
   "execution_count": 3,
   "id": "2daae305",
   "metadata": {
    "collapsed": true,
    "execution": {
     "iopub.execute_input": "2025-07-04T18:42:56.969939Z",
     "iopub.status.busy": "2025-07-04T18:42:56.969506Z",
     "iopub.status.idle": "2025-07-04T18:42:56.973748Z",
     "shell.execute_reply": "2025-07-04T18:42:56.972733Z"
    },
    "jupyter": {
     "outputs_hidden": true
    },
    "papermill": {
     "duration": 0.011579,
     "end_time": "2025-07-04T18:42:56.975274",
     "exception": false,
     "start_time": "2025-07-04T18:42:56.963695",
     "status": "completed"
    },
    "tags": []
   },
   "outputs": [],
   "source": [
    "#q1.hint()\n",
    "#q1.solution()"
   ]
  },
  {
   "cell_type": "markdown",
   "id": "dbbc4be2",
   "metadata": {
    "papermill": {
     "duration": 0.003571,
     "end_time": "2025-07-04T18:42:56.982942",
     "exception": false,
     "start_time": "2025-07-04T18:42:56.979371",
     "status": "completed"
    },
    "tags": []
   },
   "source": [
    "# 2.\n",
    "\n",
    "You are analyzing sports teams.  Members of each team are stored in a list. The Coach is the first name in the list, the captain is the second name in the list, and other players are listed after that. \n",
    "These lists are stored in another list, which starts with the best team and proceeds through the list to the worst team last.  Complete the function below to select the **captain** of the worst team."
   ]
  },
  {
   "cell_type": "code",
   "execution_count": 4,
   "id": "aa97fff5",
   "metadata": {
    "execution": {
     "iopub.execute_input": "2025-07-04T18:42:56.992392Z",
     "iopub.status.busy": "2025-07-04T18:42:56.992065Z",
     "iopub.status.idle": "2025-07-04T18:42:56.999753Z",
     "shell.execute_reply": "2025-07-04T18:42:56.998825Z"
    },
    "papermill": {
     "duration": 0.014546,
     "end_time": "2025-07-04T18:42:57.001638",
     "exception": false,
     "start_time": "2025-07-04T18:42:56.987092",
     "status": "completed"
    },
    "tags": []
   },
   "outputs": [
    {
     "data": {
      "application/javascript": [
       "parent.postMessage({\"jupyterEvent\": \"custom.exercise_interaction\", \"data\": {\"outcomeType\": 1, \"valueTowardsCompletion\": 0.2, \"interactionType\": 1, \"questionType\": 2, \"questionId\": \"2_LosingTeamCaptain\", \"learnToolsVersion\": \"0.3.5\", \"failureMessage\": \"\", \"exceptionClass\": \"\", \"trace\": \"\"}}, \"*\")"
      ],
      "text/plain": [
       "<IPython.core.display.Javascript object>"
      ]
     },
     "metadata": {},
     "output_type": "display_data"
    },
    {
     "data": {
      "text/markdown": [
       "<span style=\"color:#33cc33\">Correct</span>"
      ],
      "text/plain": [
       "Correct"
      ]
     },
     "metadata": {},
     "output_type": "display_data"
    }
   ],
   "source": [
    "def losing_team_captain(teams):\n",
    "    \"\"\"Given a list of teams, where each team is a list of names, return the 2nd player (captain)\n",
    "    from the last listed team\n",
    "    \"\"\"\n",
    "    return teams [-1][1]\n",
    "    pass\n",
    "\n",
    "# Check your answer\n",
    "q2.check()"
   ]
  },
  {
   "cell_type": "code",
   "execution_count": 5,
   "id": "70737fec",
   "metadata": {
    "collapsed": true,
    "execution": {
     "iopub.execute_input": "2025-07-04T18:42:57.011790Z",
     "iopub.status.busy": "2025-07-04T18:42:57.011463Z",
     "iopub.status.idle": "2025-07-04T18:42:57.016122Z",
     "shell.execute_reply": "2025-07-04T18:42:57.014751Z"
    },
    "jupyter": {
     "outputs_hidden": true
    },
    "papermill": {
     "duration": 0.012009,
     "end_time": "2025-07-04T18:42:57.017988",
     "exception": false,
     "start_time": "2025-07-04T18:42:57.005979",
     "status": "completed"
    },
    "tags": []
   },
   "outputs": [],
   "source": [
    "#q2.hint()\n",
    "#q2.solution()"
   ]
  },
  {
   "cell_type": "markdown",
   "id": "0f7b7917",
   "metadata": {
    "papermill": {
     "duration": 0.003793,
     "end_time": "2025-07-04T18:42:57.026384",
     "exception": false,
     "start_time": "2025-07-04T18:42:57.022591",
     "status": "completed"
    },
    "tags": []
   },
   "source": [
    "# 3.\n",
    "\n",
    "The next iteration of Mario Kart will feature an extra-infuriating new item, the *Purple Shell*. When used, it warps the last place racer into first place and the first place racer into last place. Complete the function below to implement the Purple Shell's effect."
   ]
  },
  {
   "cell_type": "code",
   "execution_count": 6,
   "id": "d124cbc1",
   "metadata": {
    "execution": {
     "iopub.execute_input": "2025-07-04T18:42:57.036822Z",
     "iopub.status.busy": "2025-07-04T18:42:57.036049Z",
     "iopub.status.idle": "2025-07-04T18:42:57.047695Z",
     "shell.execute_reply": "2025-07-04T18:42:57.046281Z"
    },
    "papermill": {
     "duration": 0.019023,
     "end_time": "2025-07-04T18:42:57.049801",
     "exception": false,
     "start_time": "2025-07-04T18:42:57.030778",
     "status": "completed"
    },
    "tags": []
   },
   "outputs": [
    {
     "data": {
      "application/javascript": [
       "parent.postMessage({\"jupyterEvent\": \"custom.exercise_interaction\", \"data\": {\"outcomeType\": 1, \"valueTowardsCompletion\": 0.2, \"interactionType\": 1, \"questionType\": 2, \"questionId\": \"3_PurpleShell\", \"learnToolsVersion\": \"0.3.5\", \"failureMessage\": \"\", \"exceptionClass\": \"\", \"trace\": \"\"}}, \"*\")"
      ],
      "text/plain": [
       "<IPython.core.display.Javascript object>"
      ]
     },
     "metadata": {},
     "output_type": "display_data"
    },
    {
     "data": {
      "text/markdown": [
       "<span style=\"color:#33cc33\">Correct</span>"
      ],
      "text/plain": [
       "Correct"
      ]
     },
     "metadata": {},
     "output_type": "display_data"
    }
   ],
   "source": [
    "def purple_shell(racers):\n",
    "    \"\"\"Given a list of racers, set the first place racer (at the front of the list) to last\n",
    "    place and vice versa.\n",
    "    \n",
    "    >>> r = [\"Mario\", \"Bowser\", \"Luigi\"]\n",
    "    >>> purple_shell(r)\n",
    "    >>> r\n",
    "    [\"Luigi\", \"Bowser\", \"Mario\"]\n",
    "    \"\"\"\n",
    "    racers[0], racers[-\n",
    "    1] = racers[-1], racers[0]\n",
    "    pass\n",
    "\n",
    "# Check your answer\n",
    "q3.check()"
   ]
  },
  {
   "cell_type": "code",
   "execution_count": 7,
   "id": "7c6f940c",
   "metadata": {
    "collapsed": true,
    "execution": {
     "iopub.execute_input": "2025-07-04T18:42:57.063062Z",
     "iopub.status.busy": "2025-07-04T18:42:57.061752Z",
     "iopub.status.idle": "2025-07-04T18:42:57.066903Z",
     "shell.execute_reply": "2025-07-04T18:42:57.066009Z"
    },
    "jupyter": {
     "outputs_hidden": true
    },
    "papermill": {
     "duration": 0.012399,
     "end_time": "2025-07-04T18:42:57.068681",
     "exception": false,
     "start_time": "2025-07-04T18:42:57.056282",
     "status": "completed"
    },
    "tags": []
   },
   "outputs": [],
   "source": [
    "#q3.hint()\n",
    "#q3.solution()"
   ]
  },
  {
   "cell_type": "markdown",
   "id": "0dc6f756",
   "metadata": {
    "papermill": {
     "duration": 0.004083,
     "end_time": "2025-07-04T18:42:57.078866",
     "exception": false,
     "start_time": "2025-07-04T18:42:57.074783",
     "status": "completed"
    },
    "tags": []
   },
   "source": [
    "# 4.\n",
    "\n",
    "What are the lengths of the following lists? Fill in the variable `lengths` with your predictions. (Try to make a prediction for each list *without* just calling `len()` on it.)"
   ]
  },
  {
   "cell_type": "code",
   "execution_count": 8,
   "id": "12f86a91",
   "metadata": {
    "execution": {
     "iopub.execute_input": "2025-07-04T18:42:57.090368Z",
     "iopub.status.busy": "2025-07-04T18:42:57.090043Z",
     "iopub.status.idle": "2025-07-04T18:42:57.098986Z",
     "shell.execute_reply": "2025-07-04T18:42:57.098026Z"
    },
    "papermill": {
     "duration": 0.017124,
     "end_time": "2025-07-04T18:42:57.100390",
     "exception": false,
     "start_time": "2025-07-04T18:42:57.083266",
     "status": "completed"
    },
    "tags": []
   },
   "outputs": [
    {
     "data": {
      "application/javascript": [
       "parent.postMessage({\"jupyterEvent\": \"custom.exercise_interaction\", \"data\": {\"outcomeType\": 1, \"valueTowardsCompletion\": 0.2, \"interactionType\": 1, \"questionType\": 1, \"questionId\": \"4_UnderstandLen\", \"learnToolsVersion\": \"0.3.5\", \"failureMessage\": \"\", \"exceptionClass\": \"\", \"trace\": \"\"}}, \"*\")"
      ],
      "text/plain": [
       "<IPython.core.display.Javascript object>"
      ]
     },
     "metadata": {},
     "output_type": "display_data"
    },
    {
     "data": {
      "text/markdown": [
       "<span style=\"color:#33cc33\">Correct:</span> \n",
       "\n",
       "\n",
       "- a: There are three items in this list. Nothing tricky yet.\n",
       "- b: The list `[2, 3]` counts as a single item. It has one item before it. So we have 2 items in the list\n",
       "- c: The empty list has 0 items\n",
       "- d: The expression is the same as the list `[2, 3]`, which has length 2."
      ],
      "text/plain": [
       "Correct: \n",
       "\n",
       "\n",
       "- a: There are three items in this list. Nothing tricky yet.\n",
       "- b: The list `[2, 3]` counts as a single item. It has one item before it. So we have 2 items in the list\n",
       "- c: The empty list has 0 items\n",
       "- d: The expression is the same as the list `[2, 3]`, which has length 2."
      ]
     },
     "metadata": {},
     "output_type": "display_data"
    }
   ],
   "source": [
    "a = [1, 2, 3]\n",
    "b = [1, [2, 3]]\n",
    "c = []\n",
    "d = [1, 2, 3][1:]\n",
    "\n",
    "# Put your predictions in the list below. Lengths should contain 4 numbers, the\n",
    "# first being the length of a, the second being the length of b and so on.\n",
    "lengths = []\n",
    "lengths = [3, 2, 0, 2]\n",
    "\n",
    "# Check your answer\n",
    "q4.check()"
   ]
  },
  {
   "cell_type": "code",
   "execution_count": 9,
   "id": "0e66b77a",
   "metadata": {
    "collapsed": true,
    "execution": {
     "iopub.execute_input": "2025-07-04T18:42:57.110592Z",
     "iopub.status.busy": "2025-07-04T18:42:57.110253Z",
     "iopub.status.idle": "2025-07-04T18:42:57.114158Z",
     "shell.execute_reply": "2025-07-04T18:42:57.113373Z"
    },
    "jupyter": {
     "outputs_hidden": true
    },
    "papermill": {
     "duration": 0.010702,
     "end_time": "2025-07-04T18:42:57.115645",
     "exception": false,
     "start_time": "2025-07-04T18:42:57.104943",
     "status": "completed"
    },
    "tags": []
   },
   "outputs": [],
   "source": [
    "# line below provides some explanation\n",
    "#q4.solution()"
   ]
  },
  {
   "cell_type": "markdown",
   "id": "21ec2440",
   "metadata": {
    "papermill": {
     "duration": 0.004806,
     "end_time": "2025-07-04T18:42:57.124993",
     "exception": false,
     "start_time": "2025-07-04T18:42:57.120187",
     "status": "completed"
    },
    "tags": []
   },
   "source": [
    "# 5. <span title=\"A bit spicy\" style=\"color: darkgreen \">🌶️</span>\n",
    "\n",
    "We're using lists to record people who attended our party and what order they arrived in. For example, the following list represents a party with 7 guests, in which Adela showed up first and Ford was the last to arrive:\n",
    "\n",
    "    party_attendees = ['Adela', 'Fleda', 'Owen', 'May', 'Mona', 'Gilbert', 'Ford']\n",
    "\n",
    "A guest is considered 'fashionably late' if they arrived after at least half of the party's guests. However, they must not be the very last guest (that's taking it too far). In the above example, Mona and Gilbert are the only guests who were fashionably late.\n",
    "\n",
    "Complete the function below which takes a list of party attendees as well as a person, and tells us whether that person is fashionably late."
   ]
  },
  {
   "cell_type": "code",
   "execution_count": 10,
   "id": "3272963a",
   "metadata": {
    "execution": {
     "iopub.execute_input": "2025-07-04T18:42:57.135595Z",
     "iopub.status.busy": "2025-07-04T18:42:57.135235Z",
     "iopub.status.idle": "2025-07-04T18:42:57.143005Z",
     "shell.execute_reply": "2025-07-04T18:42:57.141964Z"
    },
    "papermill": {
     "duration": 0.015091,
     "end_time": "2025-07-04T18:42:57.144400",
     "exception": false,
     "start_time": "2025-07-04T18:42:57.129309",
     "status": "completed"
    },
    "tags": []
   },
   "outputs": [
    {
     "data": {
      "application/javascript": [
       "parent.postMessage({\"jupyterEvent\": \"custom.exercise_interaction\", \"data\": {\"outcomeType\": 1, \"valueTowardsCompletion\": 0.2, \"interactionType\": 1, \"questionType\": 2, \"questionId\": \"5_FashionablyLate\", \"learnToolsVersion\": \"0.3.5\", \"failureMessage\": \"\", \"exceptionClass\": \"\", \"trace\": \"\"}}, \"*\")"
      ],
      "text/plain": [
       "<IPython.core.display.Javascript object>"
      ]
     },
     "metadata": {},
     "output_type": "display_data"
    },
    {
     "data": {
      "text/markdown": [
       "<span style=\"color:#33cc33\">Correct</span>"
      ],
      "text/plain": [
       "Correct"
      ]
     },
     "metadata": {},
     "output_type": "display_data"
    }
   ],
   "source": [
    "def fashionably_late(arrivals, name):\n",
    "    \"\"\"Given an ordered list of arrivals to the party and a name, return whether the guest with that\n",
    "    name was fashionably late.\n",
    "    \"\"\"\n",
    "    index = arrivals.index(name)\n",
    "    return index >= len(arrivals) / 2 and index != len(arrivals) - 1\n",
    "    pass\n",
    "\n",
    "# Check your answer\n",
    "q5.check()"
   ]
  },
  {
   "cell_type": "code",
   "execution_count": 11,
   "id": "c78cbf9a",
   "metadata": {
    "collapsed": true,
    "execution": {
     "iopub.execute_input": "2025-07-04T18:42:57.155237Z",
     "iopub.status.busy": "2025-07-04T18:42:57.154875Z",
     "iopub.status.idle": "2025-07-04T18:42:57.158821Z",
     "shell.execute_reply": "2025-07-04T18:42:57.157908Z"
    },
    "jupyter": {
     "outputs_hidden": true
    },
    "papermill": {
     "duration": 0.011096,
     "end_time": "2025-07-04T18:42:57.160358",
     "exception": false,
     "start_time": "2025-07-04T18:42:57.149262",
     "status": "completed"
    },
    "tags": []
   },
   "outputs": [],
   "source": [
    "#q5.hint()\n",
    "#q5.solution()"
   ]
  },
  {
   "cell_type": "markdown",
   "id": "34067bf2",
   "metadata": {
    "papermill": {
     "duration": 0.004942,
     "end_time": "2025-07-04T18:42:57.170482",
     "exception": false,
     "start_time": "2025-07-04T18:42:57.165540",
     "status": "completed"
    },
    "tags": []
   },
   "source": [
    "# Keep Going\n",
    "\n",
    "That's it for lists and tuples! Now you have the baseline knowledge to **[learn about loops](https://www.kaggle.com/colinmorris/loops-and-list-comprehensions)**, which is where lists and tuples get really interesting. "
   ]
  },
  {
   "cell_type": "markdown",
   "id": "e97d8e8d",
   "metadata": {
    "papermill": {
     "duration": 0.004444,
     "end_time": "2025-07-04T18:42:57.179726",
     "exception": false,
     "start_time": "2025-07-04T18:42:57.175282",
     "status": "completed"
    },
    "tags": []
   },
   "source": [
    "---\n",
    "\n",
    "\n",
    "\n",
    "\n",
    "*Have questions or comments? Visit the [course discussion forum](https://www.kaggle.com/learn/python/discussion) to chat with other learners.*"
   ]
  }
 ],
 "metadata": {
  "kaggle": {
   "accelerator": "none",
   "dataSources": [],
   "isGpuEnabled": false,
   "isInternetEnabled": false,
   "language": "python",
   "sourceType": "notebook"
  },
  "kernelspec": {
   "display_name": "Python 3",
   "language": "python",
   "name": "python3"
  },
  "language_info": {
   "codemirror_mode": {
    "name": "ipython",
    "version": 3
   },
   "file_extension": ".py",
   "mimetype": "text/x-python",
   "name": "python",
   "nbconvert_exporter": "python",
   "pygments_lexer": "ipython3",
   "version": "3.11.11"
  },
  "learntools_metadata": {
   "lesson_index": 3,
   "type": "exercise"
  },
  "papermill": {
   "default_parameters": {},
   "duration": 8.113819,
   "end_time": "2025-07-04T18:42:57.704697",
   "environment_variables": {},
   "exception": null,
   "input_path": "__notebook__.ipynb",
   "output_path": "__notebook__.ipynb",
   "parameters": {},
   "start_time": "2025-07-04T18:42:49.590878",
   "version": "2.6.0"
  }
 },
 "nbformat": 4,
 "nbformat_minor": 5
}
