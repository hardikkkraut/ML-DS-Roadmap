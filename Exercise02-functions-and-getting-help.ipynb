{
 "cells": [
  {
   "cell_type": "markdown",
   "id": "8203806f",
   "metadata": {
    "papermill": {
     "duration": 0.004692,
     "end_time": "2025-06-24T08:25:45.720219",
     "exception": false,
     "start_time": "2025-06-24T08:25:45.715527",
     "status": "completed"
    },
    "tags": []
   },
   "source": [
    "**This notebook is an exercise in the [Python](https://www.kaggle.com/learn/python) course.  You can reference the tutorial at [this link](https://www.kaggle.com/colinmorris/functions-and-getting-help).**\n",
    "\n",
    "---\n"
   ]
  },
  {
   "cell_type": "markdown",
   "id": "0c61e492",
   "metadata": {
    "papermill": {
     "duration": 0.003436,
     "end_time": "2025-06-24T08:25:45.727759",
     "exception": false,
     "start_time": "2025-06-24T08:25:45.724323",
     "status": "completed"
    },
    "tags": []
   },
   "source": [
    "Functions are powerful. Try writing some yourself.\n",
    "\n",
    "As before, don't forget to run the setup code below before jumping into question 1."
   ]
  },
  {
   "cell_type": "code",
   "execution_count": 1,
   "id": "ffc31191",
   "metadata": {
    "_kg_hide-input": true,
    "_kg_hide-output": true,
    "execution": {
     "iopub.execute_input": "2025-06-24T08:25:45.736615Z",
     "iopub.status.busy": "2025-06-24T08:25:45.736302Z",
     "iopub.status.idle": "2025-06-24T08:25:47.938156Z",
     "shell.execute_reply": "2025-06-24T08:25:47.937048Z"
    },
    "papermill": {
     "duration": 2.208247,
     "end_time": "2025-06-24T08:25:47.939770",
     "exception": false,
     "start_time": "2025-06-24T08:25:45.731523",
     "status": "completed"
    },
    "tags": []
   },
   "outputs": [
    {
     "name": "stdout",
     "output_type": "stream",
     "text": [
      "Setup complete.\n"
     ]
    }
   ],
   "source": [
    "# SETUP. You don't need to worry for now about what this code does or how it works.\n",
    "from learntools.core import binder; binder.bind(globals())\n",
    "from learntools.python.ex2 import *\n",
    "print('Setup complete.')"
   ]
  },
  {
   "cell_type": "markdown",
   "id": "f92f1d9a",
   "metadata": {
    "papermill": {
     "duration": 0.003311,
     "end_time": "2025-06-24T08:25:47.946905",
     "exception": false,
     "start_time": "2025-06-24T08:25:47.943594",
     "status": "completed"
    },
    "tags": []
   },
   "source": [
    "# 1.\n",
    "\n",
    "Complete the body of the following function according to its docstring.\n",
    "\n",
    "HINT: Python has a built-in function `round`."
   ]
  },
  {
   "cell_type": "code",
   "execution_count": 2,
   "id": "f263dca6",
   "metadata": {
    "execution": {
     "iopub.execute_input": "2025-06-24T08:25:47.955348Z",
     "iopub.status.busy": "2025-06-24T08:25:47.954905Z",
     "iopub.status.idle": "2025-06-24T08:25:47.964154Z",
     "shell.execute_reply": "2025-06-24T08:25:47.963291Z"
    },
    "papermill": {
     "duration": 0.015417,
     "end_time": "2025-06-24T08:25:47.965890",
     "exception": false,
     "start_time": "2025-06-24T08:25:47.950473",
     "status": "completed"
    },
    "tags": []
   },
   "outputs": [
    {
     "data": {
      "application/javascript": [
       "parent.postMessage({\"jupyterEvent\": \"custom.exercise_interaction\", \"data\": {\"outcomeType\": 1, \"valueTowardsCompletion\": 0.16666666666666666, \"interactionType\": 1, \"questionType\": 2, \"questionId\": \"1_RoundFunctionProblem\", \"learnToolsVersion\": \"0.3.5\", \"failureMessage\": \"\", \"exceptionClass\": \"\", \"trace\": \"\"}}, \"*\")"
      ],
      "text/plain": [
       "<IPython.core.display.Javascript object>"
      ]
     },
     "metadata": {},
     "output_type": "display_data"
    },
    {
     "data": {
      "text/markdown": [
       "<span style=\"color:#33cc33\">Correct</span>"
      ],
      "text/plain": [
       "Correct"
      ]
     },
     "metadata": {},
     "output_type": "display_data"
    }
   ],
   "source": [
    "def round_to_two_places(num):\n",
    "    \"\"\"Return the given number rounded to two decimal places. \n",
    "    \n",
    "    >>> round_to_two_places(3.14159)\n",
    "    3.14\n",
    "    \"\"\"\n",
    "    return round(num, 2)\n",
    "    # Replace this body with your own code.\n",
    "    # (\"pass\" is a keyword that does literally nothing. We used it as a placeholder\n",
    "    # because after we begin a code block, Python requires at least one line of code)\n",
    "    pass\n",
    "\n",
    "# Check your answer\n",
    "q1.check()"
   ]
  },
  {
   "cell_type": "code",
   "execution_count": 3,
   "id": "bc2bebf2",
   "metadata": {
    "execution": {
     "iopub.execute_input": "2025-06-24T08:25:47.974920Z",
     "iopub.status.busy": "2025-06-24T08:25:47.974612Z",
     "iopub.status.idle": "2025-06-24T08:25:47.982243Z",
     "shell.execute_reply": "2025-06-24T08:25:47.981288Z"
    },
    "papermill": {
     "duration": 0.014105,
     "end_time": "2025-06-24T08:25:47.983922",
     "exception": false,
     "start_time": "2025-06-24T08:25:47.969817",
     "status": "completed"
    },
    "tags": []
   },
   "outputs": [
    {
     "data": {
      "application/javascript": [
       "parent.postMessage({\"jupyterEvent\": \"custom.exercise_interaction\", \"data\": {\"interactionType\": 3, \"questionType\": 2, \"questionId\": \"1_RoundFunctionProblem\", \"learnToolsVersion\": \"0.3.5\", \"valueTowardsCompletion\": 0.0, \"failureMessage\": \"\", \"exceptionClass\": \"\", \"trace\": \"\", \"outcomeType\": 4}}, \"*\")"
      ],
      "text/plain": [
       "<IPython.core.display.Javascript object>"
      ]
     },
     "metadata": {},
     "output_type": "display_data"
    },
    {
     "data": {
      "text/markdown": [
       "<span style=\"color:#33cc99\">Solution:</span> \n",
       "```python\n",
       "return round(num, 2)\n",
       "```"
      ],
      "text/plain": [
       "Solution: \n",
       "```python\n",
       "return round(num, 2)\n",
       "```"
      ]
     },
     "metadata": {},
     "output_type": "display_data"
    }
   ],
   "source": [
    "# Uncomment the following for a hint\n",
    "#q1.hint()\n",
    "# Or uncomment the following to peek at the solution\n",
    "q1.solution()"
   ]
  },
  {
   "cell_type": "markdown",
   "id": "55fffaa0",
   "metadata": {
    "papermill": {
     "duration": 0.003487,
     "end_time": "2025-06-24T08:25:47.991399",
     "exception": false,
     "start_time": "2025-06-24T08:25:47.987912",
     "status": "completed"
    },
    "tags": []
   },
   "source": [
    "# 2.\n",
    "The help for `round` says that `ndigits` (the second argument) may be negative.\n",
    "What do you think will happen when it is? Try some examples in the following cell."
   ]
  },
  {
   "cell_type": "code",
   "execution_count": 4,
   "id": "6240587d",
   "metadata": {
    "execution": {
     "iopub.execute_input": "2025-06-24T08:25:48.000497Z",
     "iopub.status.busy": "2025-06-24T08:25:48.000092Z",
     "iopub.status.idle": "2025-06-24T08:25:48.006585Z",
     "shell.execute_reply": "2025-06-24T08:25:48.005438Z"
    },
    "papermill": {
     "duration": 0.012959,
     "end_time": "2025-06-24T08:25:48.008142",
     "exception": false,
     "start_time": "2025-06-24T08:25:47.995183",
     "status": "completed"
    },
    "tags": []
   },
   "outputs": [
    {
     "name": "stdout",
     "output_type": "stream",
     "text": [
      "120\n",
      "100\n",
      "2000\n",
      "-300\n"
     ]
    }
   ],
   "source": [
    "# Put your test code here\n",
    "print(round(123, -1))\n",
    "print(round(123, -2))\n",
    "print(round(1586, -3))\n",
    "print(round(-345, -2))\n"
   ]
  },
  {
   "cell_type": "markdown",
   "id": "73130e73",
   "metadata": {
    "papermill": {
     "duration": 0.00367,
     "end_time": "2025-06-24T08:25:48.016009",
     "exception": false,
     "start_time": "2025-06-24T08:25:48.012339",
     "status": "completed"
    },
    "tags": []
   },
   "source": [
    "Can you think of a case where this would be useful?  Once you're ready, run the code cell below to see the answer and to receive credit for completing the problem."
   ]
  },
  {
   "cell_type": "code",
   "execution_count": 5,
   "id": "a3f78d58",
   "metadata": {
    "execution": {
     "iopub.execute_input": "2025-06-24T08:25:48.024945Z",
     "iopub.status.busy": "2025-06-24T08:25:48.024638Z",
     "iopub.status.idle": "2025-06-24T08:25:48.032271Z",
     "shell.execute_reply": "2025-06-24T08:25:48.031183Z"
    },
    "papermill": {
     "duration": 0.013918,
     "end_time": "2025-06-24T08:25:48.033758",
     "exception": false,
     "start_time": "2025-06-24T08:25:48.019840",
     "status": "completed"
    },
    "tags": []
   },
   "outputs": [
    {
     "data": {
      "application/javascript": [
       "parent.postMessage({\"jupyterEvent\": \"custom.exercise_interaction\", \"data\": {\"interactionType\": 3, \"questionType\": 4, \"questionId\": \"2_RoundNdigitsProblem\", \"learnToolsVersion\": \"0.3.5\", \"valueTowardsCompletion\": 0.0, \"failureMessage\": \"\", \"exceptionClass\": \"\", \"trace\": \"\", \"outcomeType\": 4}}, \"*\")"
      ],
      "text/plain": [
       "<IPython.core.display.Javascript object>"
      ]
     },
     "metadata": {},
     "output_type": "display_data"
    },
    {
     "data": {
      "text/markdown": [
       "<span style=\"color:#33cc99\">Solution:</span> As you've seen, `ndigits=-1` rounds to the nearest 10, `ndigits=-2` rounds to the nearest 100 and so on. Where might this be useful? Suppose we're dealing with large numbers:\n",
       "\n",
       "> The area of Finland is 338,424 km²  \n",
       "> The area of Greenland is 2,166,086 km²\n",
       "\n",
       "We probably don't care whether it's really 338,424, or 338,425, or 338,177. All those digits of accuracy are just distracting. We can chop them off by calling `round()` with `ndigits=-3`:\n",
       "\n",
       "> The area of Finland is 338,000 km²  \n",
       "> The area of Greenland is 2,166,000 km²\n",
       "\n",
       "(We'll talk about how we would get the commas later when we talk about string formatting :))\n"
      ],
      "text/plain": [
       "Solution: As you've seen, `ndigits=-1` rounds to the nearest 10, `ndigits=-2` rounds to the nearest 100 and so on. Where might this be useful? Suppose we're dealing with large numbers:\n",
       "\n",
       "> The area of Finland is 338,424 km²  \n",
       "> The area of Greenland is 2,166,086 km²\n",
       "\n",
       "We probably don't care whether it's really 338,424, or 338,425, or 338,177. All those digits of accuracy are just distracting. We can chop them off by calling `round()` with `ndigits=-3`:\n",
       "\n",
       "> The area of Finland is 338,000 km²  \n",
       "> The area of Greenland is 2,166,000 km²\n",
       "\n",
       "(We'll talk about how we would get the commas later when we talk about string formatting :))"
      ]
     },
     "metadata": {},
     "output_type": "display_data"
    }
   ],
   "source": [
    "# Check your answer (Run this code cell to receive credit!)\n",
    "q2.solution()"
   ]
  },
  {
   "cell_type": "markdown",
   "id": "e562577d",
   "metadata": {
    "papermill": {
     "duration": 0.003888,
     "end_time": "2025-06-24T08:25:48.042175",
     "exception": false,
     "start_time": "2025-06-24T08:25:48.038287",
     "status": "completed"
    },
    "tags": []
   },
   "source": [
    "# 3.\n",
    "\n",
    "In the previous exercise, the candy-sharing friends Alice, Bob and Carol tried to split candies evenly. For the sake of their friendship, any candies left over would be smashed. For example, if they collectively bring home 91 candies, they'll take 30 each and smash 1.\n",
    "\n",
    "Below is a simple function that will calculate the number of candies to smash for *any* number of total candies.\n",
    "\n",
    "Modify it so that it optionally takes a second argument representing the number of friends the candies are being split between. If no second argument is provided, it should assume 3 friends, as before.\n",
    "\n",
    "Update the docstring to reflect this new behaviour."
   ]
  },
  {
   "cell_type": "code",
   "execution_count": 6,
   "id": "5903bf77",
   "metadata": {
    "execution": {
     "iopub.execute_input": "2025-06-24T08:25:48.052538Z",
     "iopub.status.busy": "2025-06-24T08:25:48.052092Z",
     "iopub.status.idle": "2025-06-24T08:25:48.060589Z",
     "shell.execute_reply": "2025-06-24T08:25:48.059289Z"
    },
    "papermill": {
     "duration": 0.015126,
     "end_time": "2025-06-24T08:25:48.062072",
     "exception": false,
     "start_time": "2025-06-24T08:25:48.046946",
     "status": "completed"
    },
    "tags": []
   },
   "outputs": [
    {
     "data": {
      "application/javascript": [
       "parent.postMessage({\"jupyterEvent\": \"custom.exercise_interaction\", \"data\": {\"outcomeType\": 1, \"valueTowardsCompletion\": 0.16666666666666666, \"interactionType\": 1, \"questionType\": 2, \"questionId\": \"3_CandySmashingFunctionProblem\", \"learnToolsVersion\": \"0.3.5\", \"failureMessage\": \"\", \"exceptionClass\": \"\", \"trace\": \"\"}}, \"*\")"
      ],
      "text/plain": [
       "<IPython.core.display.Javascript object>"
      ]
     },
     "metadata": {},
     "output_type": "display_data"
    },
    {
     "data": {
      "text/markdown": [
       "<span style=\"color:#33cc33\">Correct</span>"
      ],
      "text/plain": [
       "Correct"
      ]
     },
     "metadata": {},
     "output_type": "display_data"
    }
   ],
   "source": [
    "def to_smash(total_candies, num_friends = 3):\n",
    "    \"\"\"Return the number of leftover candies that must be smashed after distributing\n",
    "    the given number of candies evenly between 3 friends.\n",
    "    \n",
    "    >>> to_smash(91)\n",
    "    1\n",
    "    \"\"\"\n",
    "    \n",
    "    return total_candies % num_friends\n",
    "\n",
    "# Check your answer\n",
    "q3.check()"
   ]
  },
  {
   "cell_type": "code",
   "execution_count": 7,
   "id": "776dcfaa",
   "metadata": {
    "execution": {
     "iopub.execute_input": "2025-06-24T08:25:48.072279Z",
     "iopub.status.busy": "2025-06-24T08:25:48.071519Z",
     "iopub.status.idle": "2025-06-24T08:25:48.075790Z",
     "shell.execute_reply": "2025-06-24T08:25:48.074776Z"
    },
    "papermill": {
     "duration": 0.010902,
     "end_time": "2025-06-24T08:25:48.077422",
     "exception": false,
     "start_time": "2025-06-24T08:25:48.066520",
     "status": "completed"
    },
    "tags": []
   },
   "outputs": [],
   "source": [
    "#q3.hint()"
   ]
  },
  {
   "cell_type": "code",
   "execution_count": 8,
   "id": "4678aed2",
   "metadata": {
    "execution": {
     "iopub.execute_input": "2025-06-24T08:25:48.087163Z",
     "iopub.status.busy": "2025-06-24T08:25:48.086879Z",
     "iopub.status.idle": "2025-06-24T08:25:48.091431Z",
     "shell.execute_reply": "2025-06-24T08:25:48.090357Z"
    },
    "papermill": {
     "duration": 0.011666,
     "end_time": "2025-06-24T08:25:48.093450",
     "exception": false,
     "start_time": "2025-06-24T08:25:48.081784",
     "status": "completed"
    },
    "tags": []
   },
   "outputs": [],
   "source": [
    "#q3.solution()"
   ]
  },
  {
   "cell_type": "markdown",
   "id": "3542f693",
   "metadata": {
    "papermill": {
     "duration": 0.004848,
     "end_time": "2025-06-24T08:25:48.102894",
     "exception": false,
     "start_time": "2025-06-24T08:25:48.098046",
     "status": "completed"
    },
    "tags": []
   },
   "source": [
    "# 4. (Optional)\n",
    "\n",
    "It may not be fun, but reading and understanding error messages will be an important part of your Python career.\n",
    "\n",
    "Each code cell below contains some commented buggy code. For each cell...\n",
    "\n",
    "1. Read the code and predict what you think will happen when it's run.\n",
    "2. Then uncomment the code and run it to see what happens. (**Tip**: In the kernel editor, you can highlight several lines and press `ctrl`+`/` to toggle commenting.)\n",
    "3. Fix the code (so that it accomplishes its intended purpose without throwing an exception)\n",
    "\n",
    "<!-- TODO: should this be autochecked? Delta is probably pretty small. -->"
   ]
  },
  {
   "cell_type": "code",
   "execution_count": 9,
   "id": "10ff11d9",
   "metadata": {
    "execution": {
     "iopub.execute_input": "2025-06-24T08:25:48.114217Z",
     "iopub.status.busy": "2025-06-24T08:25:48.113092Z",
     "iopub.status.idle": "2025-06-24T08:25:48.119459Z",
     "shell.execute_reply": "2025-06-24T08:25:48.118495Z"
    },
    "papermill": {
     "duration": 0.013294,
     "end_time": "2025-06-24T08:25:48.120995",
     "exception": false,
     "start_time": "2025-06-24T08:25:48.107701",
     "status": "completed"
    },
    "tags": []
   },
   "outputs": [
    {
     "data": {
      "text/plain": [
       "10.0"
      ]
     },
     "execution_count": 9,
     "metadata": {},
     "output_type": "execute_result"
    }
   ],
   "source": [
    "round_to_two_places(9.9999)"
   ]
  },
  {
   "cell_type": "code",
   "execution_count": 10,
   "id": "3f343d4d",
   "metadata": {
    "execution": {
     "iopub.execute_input": "2025-06-24T08:25:48.131784Z",
     "iopub.status.busy": "2025-06-24T08:25:48.131069Z",
     "iopub.status.idle": "2025-06-24T08:25:48.136128Z",
     "shell.execute_reply": "2025-06-24T08:25:48.135014Z"
    },
    "papermill": {
     "duration": 0.012143,
     "end_time": "2025-06-24T08:25:48.137814",
     "exception": false,
     "start_time": "2025-06-24T08:25:48.125671",
     "status": "completed"
    },
    "tags": []
   },
   "outputs": [],
   "source": [
    "x = -10\n",
    "y = 5\n",
    "# # Which of the two variables above has the smallest absolute value?\n",
    "smallest_abs = min(abs(x), abs(y))"
   ]
  },
  {
   "cell_type": "code",
   "execution_count": 11,
   "id": "a962e8ee",
   "metadata": {
    "execution": {
     "iopub.execute_input": "2025-06-24T08:25:48.148174Z",
     "iopub.status.busy": "2025-06-24T08:25:48.147852Z",
     "iopub.status.idle": "2025-06-24T08:25:48.153762Z",
     "shell.execute_reply": "2025-06-24T08:25:48.152560Z"
    },
    "papermill": {
     "duration": 0.012812,
     "end_time": "2025-06-24T08:25:48.155353",
     "exception": false,
     "start_time": "2025-06-24T08:25:48.142541",
     "status": "completed"
    },
    "tags": []
   },
   "outputs": [
    {
     "name": "stdout",
     "output_type": "stream",
     "text": [
      "5\n"
     ]
    }
   ],
   "source": [
    " def f(x):\n",
    "   y = abs(x)\n",
    "   return y\n",
    "\n",
    "print(f(5))"
   ]
  },
  {
   "cell_type": "markdown",
   "id": "cf28d665",
   "metadata": {
    "papermill": {
     "duration": 0.004527,
     "end_time": "2025-06-24T08:25:48.164548",
     "exception": false,
     "start_time": "2025-06-24T08:25:48.160021",
     "status": "completed"
    },
    "tags": []
   },
   "source": [
    "# Keep Going\n",
    "\n",
    "Nice job with the code. Next up, you'll learn about *conditionals*, which you'll need to **[write interesting programs](https://www.kaggle.com/colinmorris/booleans-and-conditionals)**. "
   ]
  },
  {
   "cell_type": "markdown",
   "id": "2b5a62e3",
   "metadata": {
    "papermill": {
     "duration": 0.0044,
     "end_time": "2025-06-24T08:25:48.173991",
     "exception": false,
     "start_time": "2025-06-24T08:25:48.169591",
     "status": "completed"
    },
    "tags": []
   },
   "source": [
    "---\n",
    "\n",
    "\n",
    "\n",
    "\n",
    "*Have questions or comments? Visit the [course discussion forum](https://www.kaggle.com/learn/python/discussion) to chat with other learners.*"
   ]
  }
 ],
 "metadata": {
  "kaggle": {
   "accelerator": "none",
   "dataSources": [],
   "isGpuEnabled": false,
   "isInternetEnabled": false,
   "language": "python",
   "sourceType": "notebook"
  },
  "kernelspec": {
   "display_name": "Python 3",
   "language": "python",
   "name": "python3"
  },
  "language_info": {
   "codemirror_mode": {
    "name": "ipython",
    "version": 3
   },
   "file_extension": ".py",
   "mimetype": "text/x-python",
   "name": "python",
   "nbconvert_exporter": "python",
   "pygments_lexer": "ipython3",
   "version": "3.11.11"
  },
  "learntools_metadata": {
   "lesson_index": 1,
   "type": "exercise"
  },
  "papermill": {
   "default_parameters": {},
   "duration": 8.248147,
   "end_time": "2025-06-24T08:25:48.699440",
   "environment_variables": {},
   "exception": null,
   "input_path": "__notebook__.ipynb",
   "output_path": "__notebook__.ipynb",
   "parameters": {},
   "start_time": "2025-06-24T08:25:40.451293",
   "version": "2.6.0"
  }
 },
 "nbformat": 4,
 "nbformat_minor": 5
}
