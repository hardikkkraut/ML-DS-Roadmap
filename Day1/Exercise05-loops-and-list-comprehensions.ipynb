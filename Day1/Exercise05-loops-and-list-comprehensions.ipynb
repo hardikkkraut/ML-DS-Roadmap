{
 "cells": [
  {
   "cell_type": "markdown",
   "id": "792cb625",
   "metadata": {
    "papermill": {
     "duration": 0.005903,
     "end_time": "2025-07-04T19:21:25.301135",
     "exception": false,
     "start_time": "2025-07-04T19:21:25.295232",
     "status": "completed"
    },
    "tags": []
   },
   "source": [
    "**This notebook is an exercise in the [Python](https://www.kaggle.com/learn/python) course.  You can reference the tutorial at [this link](https://www.kaggle.com/colinmorris/loops-and-list-comprehensions).**\n",
    "\n",
    "---\n"
   ]
  },
  {
   "cell_type": "markdown",
   "id": "6146a6f4",
   "metadata": {
    "papermill": {
     "duration": 0.003622,
     "end_time": "2025-07-04T19:21:25.309982",
     "exception": false,
     "start_time": "2025-07-04T19:21:25.306360",
     "status": "completed"
    },
    "tags": []
   },
   "source": [
    "With all you've learned, you can start writing much more interesting programs. See if you can solve the problems below.\n",
    "\n",
    "As always, run the setup code below before working on the questions."
   ]
  },
  {
   "cell_type": "code",
   "execution_count": 1,
   "id": "eef9ee9a",
   "metadata": {
    "execution": {
     "iopub.execute_input": "2025-07-04T19:21:25.320205Z",
     "iopub.status.busy": "2025-07-04T19:21:25.319682Z",
     "iopub.status.idle": "2025-07-04T19:21:27.474879Z",
     "shell.execute_reply": "2025-07-04T19:21:27.473805Z"
    },
    "papermill": {
     "duration": 2.162588,
     "end_time": "2025-07-04T19:21:27.476451",
     "exception": false,
     "start_time": "2025-07-04T19:21:25.313863",
     "status": "completed"
    },
    "tags": []
   },
   "outputs": [
    {
     "name": "stdout",
     "output_type": "stream",
     "text": [
      "Setup complete.\n"
     ]
    }
   ],
   "source": [
    "from learntools.core import binder; binder.bind(globals())\n",
    "from learntools.python.ex5 import *\n",
    "print('Setup complete.')"
   ]
  },
  {
   "cell_type": "markdown",
   "id": "a2c7752a",
   "metadata": {
    "papermill": {
     "duration": 0.003661,
     "end_time": "2025-07-04T19:21:27.484068",
     "exception": false,
     "start_time": "2025-07-04T19:21:27.480407",
     "status": "completed"
    },
    "tags": []
   },
   "source": [
    "# 1.\n",
    "\n",
    "Have you ever felt debugging involved a bit of luck? The following program has a bug. Try to identify the bug and fix it."
   ]
  },
  {
   "cell_type": "code",
   "execution_count": 2,
   "id": "22dceb81",
   "metadata": {
    "execution": {
     "iopub.execute_input": "2025-07-04T19:21:27.493155Z",
     "iopub.status.busy": "2025-07-04T19:21:27.492610Z",
     "iopub.status.idle": "2025-07-04T19:21:27.497671Z",
     "shell.execute_reply": "2025-07-04T19:21:27.496707Z"
    },
    "papermill": {
     "duration": 0.011377,
     "end_time": "2025-07-04T19:21:27.499294",
     "exception": false,
     "start_time": "2025-07-04T19:21:27.487917",
     "status": "completed"
    },
    "tags": []
   },
   "outputs": [],
   "source": [
    "def has_lucky_number(nums):\n",
    "    return any(num % 7 == 0 for num in nums)\n"
   ]
  },
  {
   "cell_type": "markdown",
   "id": "ea31b804",
   "metadata": {
    "papermill": {
     "duration": 0.004062,
     "end_time": "2025-07-04T19:21:27.507504",
     "exception": false,
     "start_time": "2025-07-04T19:21:27.503442",
     "status": "completed"
    },
    "tags": []
   },
   "source": [
    "Try to identify the bug and fix it in the cell below:"
   ]
  },
  {
   "cell_type": "code",
   "execution_count": 3,
   "id": "a57dd575",
   "metadata": {
    "execution": {
     "iopub.execute_input": "2025-07-04T19:21:27.516661Z",
     "iopub.status.busy": "2025-07-04T19:21:27.516302Z",
     "iopub.status.idle": "2025-07-04T19:21:27.525552Z",
     "shell.execute_reply": "2025-07-04T19:21:27.524390Z"
    },
    "papermill": {
     "duration": 0.015896,
     "end_time": "2025-07-04T19:21:27.527282",
     "exception": false,
     "start_time": "2025-07-04T19:21:27.511386",
     "status": "completed"
    },
    "tags": []
   },
   "outputs": [
    {
     "data": {
      "application/javascript": [
       "parent.postMessage({\"jupyterEvent\": \"custom.exercise_interaction\", \"data\": {\"outcomeType\": 1, \"valueTowardsCompletion\": 0.25, \"interactionType\": 1, \"questionType\": 2, \"questionId\": \"1_EarlyExitDebugging\", \"learnToolsVersion\": \"0.3.5\", \"failureMessage\": \"\", \"exceptionClass\": \"\", \"trace\": \"\"}}, \"*\")"
      ],
      "text/plain": [
       "<IPython.core.display.Javascript object>"
      ]
     },
     "metadata": {},
     "output_type": "display_data"
    },
    {
     "data": {
      "text/markdown": [
       "<span style=\"color:#33cc33\">Correct:</span> \n",
       "\n",
       "Remember that `return` causes a function to exit immediately. So our original implementation always ran for just one iteration. We can only return `False` if we've looked at every element of the list (and confirmed that none of them are lucky). Though we can return early if the answer is `True`:\n",
       "\n",
       "```python\n",
       "def has_lucky_number(nums):\n",
       "    for num in nums:\n",
       "        if num % 7 == 0:\n",
       "            return True\n",
       "    # We've exhausted the list without finding a lucky number\n",
       "    return False\n",
       "```\n",
       "\n",
       "Here's a one-line version using a list comprehension with Python's `any` function (you can read about what it does by calling `help(any)`):\n",
       "\n",
       "```python\n",
       "def has_lucky_number(nums):\n",
       "    return any([num % 7 == 0 for num in nums])\n",
       "```\n"
      ],
      "text/plain": [
       "Correct: \n",
       "\n",
       "Remember that `return` causes a function to exit immediately. So our original implementation always ran for just one iteration. We can only return `False` if we've looked at every element of the list (and confirmed that none of them are lucky). Though we can return early if the answer is `True`:\n",
       "\n",
       "```python\n",
       "def has_lucky_number(nums):\n",
       "    for num in nums:\n",
       "        if num % 7 == 0:\n",
       "            return True\n",
       "    # We've exhausted the list without finding a lucky number\n",
       "    return False\n",
       "```\n",
       "\n",
       "Here's a one-line version using a list comprehension with Python's `any` function (you can read about what it does by calling `help(any)`):\n",
       "\n",
       "```python\n",
       "def has_lucky_number(nums):\n",
       "    return any([num % 7 == 0 for num in nums])\n",
       "```"
      ]
     },
     "metadata": {},
     "output_type": "display_data"
    }
   ],
   "source": [
    "def has_lucky_number(nums):\n",
    "    \"\"\"Return whether the given list of numbers is lucky. A lucky list contains\n",
    "    at least one number divisible by 7.\n",
    "    \"\"\"\n",
    "    for num in nums:\n",
    "        if num % 7 == 0:\n",
    "            return True\n",
    "        \n",
    "    return False\n",
    "\n",
    "# Check your answer\n",
    "q1.check()"
   ]
  },
  {
   "cell_type": "code",
   "execution_count": 4,
   "id": "72eb08d5",
   "metadata": {
    "execution": {
     "iopub.execute_input": "2025-07-04T19:21:27.537537Z",
     "iopub.status.busy": "2025-07-04T19:21:27.537170Z",
     "iopub.status.idle": "2025-07-04T19:21:27.541624Z",
     "shell.execute_reply": "2025-07-04T19:21:27.540728Z"
    },
    "papermill": {
     "duration": 0.011402,
     "end_time": "2025-07-04T19:21:27.543386",
     "exception": false,
     "start_time": "2025-07-04T19:21:27.531984",
     "status": "completed"
    },
    "tags": []
   },
   "outputs": [],
   "source": [
    "#q1.hint()\n",
    "#q1.solution()"
   ]
  },
  {
   "cell_type": "markdown",
   "id": "dce91d12",
   "metadata": {
    "papermill": {
     "duration": 0.003789,
     "end_time": "2025-07-04T19:21:27.551667",
     "exception": false,
     "start_time": "2025-07-04T19:21:27.547878",
     "status": "completed"
    },
    "tags": []
   },
   "source": [
    "# 2.\n",
    "Look at the Python expression below. What do you think we'll get when we run it? When you've made your prediction, uncomment the code and run the cell to see if you were right."
   ]
  },
  {
   "cell_type": "code",
   "execution_count": 5,
   "id": "3978d29a",
   "metadata": {
    "execution": {
     "iopub.execute_input": "2025-07-04T19:21:27.561102Z",
     "iopub.status.busy": "2025-07-04T19:21:27.560781Z",
     "iopub.status.idle": "2025-07-04T19:21:27.565667Z",
     "shell.execute_reply": "2025-07-04T19:21:27.564590Z"
    },
    "papermill": {
     "duration": 0.011502,
     "end_time": "2025-07-04T19:21:27.567296",
     "exception": false,
     "start_time": "2025-07-04T19:21:27.555794",
     "status": "completed"
    },
    "tags": []
   },
   "outputs": [],
   "source": [
    "#[1, 2, 3, 4] > 2"
   ]
  },
  {
   "cell_type": "markdown",
   "id": "908d9d77",
   "metadata": {
    "papermill": {
     "duration": 0.00378,
     "end_time": "2025-07-04T19:21:27.575297",
     "exception": false,
     "start_time": "2025-07-04T19:21:27.571517",
     "status": "completed"
    },
    "tags": []
   },
   "source": [
    "R and Python have some libraries (like numpy and pandas) compare each element of the list to 2 (i.e. do an 'element-wise' comparison) and give us a list of booleans like `[False, False, True, True]`. \n",
    "\n",
    "Implement a function that reproduces this behaviour, returning a list of booleans corresponding to whether the corresponding element is greater than n."
   ]
  },
  {
   "cell_type": "code",
   "execution_count": 6,
   "id": "8d98de4f",
   "metadata": {
    "execution": {
     "iopub.execute_input": "2025-07-04T19:21:27.585590Z",
     "iopub.status.busy": "2025-07-04T19:21:27.585236Z",
     "iopub.status.idle": "2025-07-04T19:21:27.594058Z",
     "shell.execute_reply": "2025-07-04T19:21:27.592981Z"
    },
    "papermill": {
     "duration": 0.016443,
     "end_time": "2025-07-04T19:21:27.595778",
     "exception": false,
     "start_time": "2025-07-04T19:21:27.579335",
     "status": "completed"
    },
    "tags": []
   },
   "outputs": [
    {
     "data": {
      "application/javascript": [
       "parent.postMessage({\"jupyterEvent\": \"custom.exercise_interaction\", \"data\": {\"outcomeType\": 1, \"valueTowardsCompletion\": 0.25, \"interactionType\": 1, \"questionType\": 2, \"questionId\": \"2_ElementWiseComparison\", \"learnToolsVersion\": \"0.3.5\", \"failureMessage\": \"\", \"exceptionClass\": \"\", \"trace\": \"\"}}, \"*\")"
      ],
      "text/plain": [
       "<IPython.core.display.Javascript object>"
      ]
     },
     "metadata": {},
     "output_type": "display_data"
    },
    {
     "data": {
      "text/markdown": [
       "<span style=\"color:#33cc33\">Correct:</span> \n",
       "\n",
       "Here's one solution:\n",
       "```python\n",
       "def elementwise_greater_than(L, thresh):\n",
       "    res = []\n",
       "    for ele in L:\n",
       "        res.append(ele > thresh)\n",
       "    return res\n",
       "```\n",
       "\n",
       "And here's the list comprehension version:\n",
       "```python\n",
       "def elementwise_greater_than(L, thresh):\n",
       "    return [ele > thresh for ele in L]\n",
       "```\n"
      ],
      "text/plain": [
       "Correct: \n",
       "\n",
       "Here's one solution:\n",
       "```python\n",
       "def elementwise_greater_than(L, thresh):\n",
       "    res = []\n",
       "    for ele in L:\n",
       "        res.append(ele > thresh)\n",
       "    return res\n",
       "```\n",
       "\n",
       "And here's the list comprehension version:\n",
       "```python\n",
       "def elementwise_greater_than(L, thresh):\n",
       "    return [ele > thresh for ele in L]\n",
       "```"
      ]
     },
     "metadata": {},
     "output_type": "display_data"
    }
   ],
   "source": [
    "def elementwise_greater_than(L, thresh):\n",
    "    \"\"\"Return a list with the same length as L, where the value at index i is \n",
    "    True if L[i] is greater than thresh, and False otherwise.\n",
    "    \n",
    "    >>> elementwise_greater_than([1, 2, 3, 4], 2)\n",
    "    [False, False, True, True]\n",
    "    \"\"\"\n",
    "    return [x > thresh for x in L]\n",
    "\n",
    "    pass\n",
    "\n",
    "# Check your answer\n",
    "q2.check()"
   ]
  },
  {
   "cell_type": "code",
   "execution_count": 7,
   "id": "c9a7d942",
   "metadata": {
    "execution": {
     "iopub.execute_input": "2025-07-04T19:21:27.605966Z",
     "iopub.status.busy": "2025-07-04T19:21:27.605442Z",
     "iopub.status.idle": "2025-07-04T19:21:27.609736Z",
     "shell.execute_reply": "2025-07-04T19:21:27.608850Z"
    },
    "papermill": {
     "duration": 0.011041,
     "end_time": "2025-07-04T19:21:27.611239",
     "exception": false,
     "start_time": "2025-07-04T19:21:27.600198",
     "status": "completed"
    },
    "tags": []
   },
   "outputs": [],
   "source": [
    "#q2.solution()"
   ]
  },
  {
   "cell_type": "markdown",
   "id": "89f717fa",
   "metadata": {
    "papermill": {
     "duration": 0.003961,
     "end_time": "2025-07-04T19:21:27.619793",
     "exception": false,
     "start_time": "2025-07-04T19:21:27.615832",
     "status": "completed"
    },
    "tags": []
   },
   "source": [
    "# 3.\n",
    "\n",
    "Complete the body of the function below according to its docstring."
   ]
  },
  {
   "cell_type": "code",
   "execution_count": 8,
   "id": "97a31841",
   "metadata": {
    "execution": {
     "iopub.execute_input": "2025-07-04T19:21:27.630381Z",
     "iopub.status.busy": "2025-07-04T19:21:27.630067Z",
     "iopub.status.idle": "2025-07-04T19:21:27.638576Z",
     "shell.execute_reply": "2025-07-04T19:21:27.637723Z"
    },
    "papermill": {
     "duration": 0.015548,
     "end_time": "2025-07-04T19:21:27.640230",
     "exception": false,
     "start_time": "2025-07-04T19:21:27.624682",
     "status": "completed"
    },
    "tags": []
   },
   "outputs": [
    {
     "data": {
      "application/javascript": [
       "parent.postMessage({\"jupyterEvent\": \"custom.exercise_interaction\", \"data\": {\"outcomeType\": 1, \"valueTowardsCompletion\": 0.25, \"interactionType\": 1, \"questionType\": 2, \"questionId\": \"3_BoringMenu\", \"learnToolsVersion\": \"0.3.5\", \"failureMessage\": \"\", \"exceptionClass\": \"\", \"trace\": \"\"}}, \"*\")"
      ],
      "text/plain": [
       "<IPython.core.display.Javascript object>"
      ]
     },
     "metadata": {},
     "output_type": "display_data"
    },
    {
     "data": {
      "text/markdown": [
       "<span style=\"color:#33cc33\">Correct:</span> \n",
       "\n",
       "\n",
       "\n",
       "```python\n",
       "def menu_is_boring(meals):\n",
       "    # Iterate over all indices of the list, except the last one\n",
       "    for i in range(len(meals)-1):\n",
       "        if meals[i] == meals[i+1]:\n",
       "            return True\n",
       "    return False\n",
       "```\n",
       "\n",
       "The key to our solution is the call to `range`. `range(len(meals))` would give us all the indices of `meals`. If we had used that range, the last iteration of the loop would be comparing the last element to the element after it, which is... `IndexError`! `range(len(meals)-1)` gives us all the indices except the index of the last element.\n",
       "\n",
       "But don't we need to check if `meals` is empty? Turns out that `range(0) == range(-1)` - they're both empty. So if `meals` has length 0 or 1, we just won't do any iterations of our for loop.\n"
      ],
      "text/plain": [
       "Correct: \n",
       "\n",
       "\n",
       "\n",
       "```python\n",
       "def menu_is_boring(meals):\n",
       "    # Iterate over all indices of the list, except the last one\n",
       "    for i in range(len(meals)-1):\n",
       "        if meals[i] == meals[i+1]:\n",
       "            return True\n",
       "    return False\n",
       "```\n",
       "\n",
       "The key to our solution is the call to `range`. `range(len(meals))` would give us all the indices of `meals`. If we had used that range, the last iteration of the loop would be comparing the last element to the element after it, which is... `IndexError`! `range(len(meals)-1)` gives us all the indices except the index of the last element.\n",
       "\n",
       "But don't we need to check if `meals` is empty? Turns out that `range(0) == range(-1)` - they're both empty. So if `meals` has length 0 or 1, we just won't do any iterations of our for loop."
      ]
     },
     "metadata": {},
     "output_type": "display_data"
    }
   ],
   "source": [
    "def menu_is_boring(meals):\n",
    "    \"\"\"Given a list of meals served over some period of time, return True if the\n",
    "    same meal has ever been served two days in a row, and False otherwise.\n",
    "    \"\"\"\n",
    "    for i in range(len(meals)-1):\n",
    "        if meals[i] == meals[i+1]:\n",
    "            return True\n",
    "    return False\n",
    "    pass\n",
    "\n",
    "# Check your answer\n",
    "q3.check()"
   ]
  },
  {
   "cell_type": "code",
   "execution_count": 9,
   "id": "2de554ea",
   "metadata": {
    "execution": {
     "iopub.execute_input": "2025-07-04T19:21:27.651228Z",
     "iopub.status.busy": "2025-07-04T19:21:27.650883Z",
     "iopub.status.idle": "2025-07-04T19:21:27.654739Z",
     "shell.execute_reply": "2025-07-04T19:21:27.653912Z"
    },
    "papermill": {
     "duration": 0.011035,
     "end_time": "2025-07-04T19:21:27.656134",
     "exception": false,
     "start_time": "2025-07-04T19:21:27.645099",
     "status": "completed"
    },
    "tags": []
   },
   "outputs": [],
   "source": [
    "#q3.hint()\n",
    "#q3.solution()"
   ]
  },
  {
   "cell_type": "markdown",
   "id": "32ef213c",
   "metadata": {
    "papermill": {
     "duration": 0.004372,
     "end_time": "2025-07-04T19:21:27.665310",
     "exception": false,
     "start_time": "2025-07-04T19:21:27.660938",
     "status": "completed"
    },
    "tags": []
   },
   "source": [
    "# 4. <span title=\"A bit spicy\" style=\"color: darkgreen \">🌶️</span>\n",
    "\n",
    "Next to the Blackjack table, the Python Challenge Casino has a slot machine. You can get a result from the slot machine by calling `play_slot_machine()`. The number it returns is your winnings in dollars. Usually it returns 0.  But sometimes you'll get lucky and get a big payday. Try running it below:"
   ]
  },
  {
   "cell_type": "code",
   "execution_count": 10,
   "id": "a3c57f7a",
   "metadata": {
    "execution": {
     "iopub.execute_input": "2025-07-04T19:21:27.676184Z",
     "iopub.status.busy": "2025-07-04T19:21:27.675840Z",
     "iopub.status.idle": "2025-07-04T19:21:27.681525Z",
     "shell.execute_reply": "2025-07-04T19:21:27.680659Z"
    },
    "papermill": {
     "duration": 0.013437,
     "end_time": "2025-07-04T19:21:27.683286",
     "exception": false,
     "start_time": "2025-07-04T19:21:27.669849",
     "status": "completed"
    },
    "tags": []
   },
   "outputs": [
    {
     "data": {
      "text/plain": [
       "1.5"
      ]
     },
     "execution_count": 10,
     "metadata": {},
     "output_type": "execute_result"
    }
   ],
   "source": [
    "play_slot_machine()"
   ]
  },
  {
   "cell_type": "markdown",
   "id": "7c7288a9",
   "metadata": {
    "papermill": {
     "duration": 0.004351,
     "end_time": "2025-07-04T19:21:27.692500",
     "exception": false,
     "start_time": "2025-07-04T19:21:27.688149",
     "status": "completed"
    },
    "tags": []
   },
   "source": [
    "By the way, did we mention that each play costs $1? Don't worry, we'll send you the bill later.\n",
    "\n",
    "On average, how much money can you expect to gain (or lose) every time you play the machine?  The casino keeps it a secret, but you can estimate the average value of each pull using a technique called the **Monte Carlo method**. To estimate the average outcome, we simulate the scenario many times, and return the average result.\n",
    "\n",
    "Complete the following function to calculate the average value per play of the slot machine."
   ]
  },
  {
   "cell_type": "code",
   "execution_count": 11,
   "id": "013e3766",
   "metadata": {
    "execution": {
     "iopub.execute_input": "2025-07-04T19:21:27.702973Z",
     "iopub.status.busy": "2025-07-04T19:21:27.702516Z",
     "iopub.status.idle": "2025-07-04T19:21:29.626624Z",
     "shell.execute_reply": "2025-07-04T19:21:29.625776Z"
    },
    "papermill": {
     "duration": 1.931576,
     "end_time": "2025-07-04T19:21:29.628548",
     "exception": false,
     "start_time": "2025-07-04T19:21:27.696972",
     "status": "completed"
    },
    "tags": []
   },
   "outputs": [
    {
     "data": {
      "text/plain": [
       "0.024926"
      ]
     },
     "execution_count": 11,
     "metadata": {},
     "output_type": "execute_result"
    }
   ],
   "source": [
    "def estimate_average_slot_payout(n_runs):\n",
    "    total_net = 0\n",
    "    for _ in range(n_runs):\n",
    "        winnings = play_slot_machine()\n",
    "        net = winnings - 1\n",
    "        total_net += net\n",
    "    return total_net / n_runs\n",
    "    pass\n",
    "estimate_average_slot_payout(10000000)"
   ]
  },
  {
   "cell_type": "markdown",
   "id": "7cb1fe55",
   "metadata": {
    "papermill": {
     "duration": 0.004684,
     "end_time": "2025-07-04T19:21:29.639551",
     "exception": false,
     "start_time": "2025-07-04T19:21:29.634867",
     "status": "completed"
    },
    "tags": []
   },
   "source": [
    "When you think you know the expected value per spin, run the code cell below to view the solution and get credit for answering the question."
   ]
  },
  {
   "cell_type": "code",
   "execution_count": 12,
   "id": "119c886b",
   "metadata": {
    "execution": {
     "iopub.execute_input": "2025-07-04T19:21:29.650324Z",
     "iopub.status.busy": "2025-07-04T19:21:29.649716Z",
     "iopub.status.idle": "2025-07-04T19:21:29.657781Z",
     "shell.execute_reply": "2025-07-04T19:21:29.656715Z"
    },
    "papermill": {
     "duration": 0.015155,
     "end_time": "2025-07-04T19:21:29.659324",
     "exception": false,
     "start_time": "2025-07-04T19:21:29.644169",
     "status": "completed"
    },
    "tags": []
   },
   "outputs": [
    {
     "data": {
      "application/javascript": [
       "parent.postMessage({\"jupyterEvent\": \"custom.exercise_interaction\", \"data\": {\"interactionType\": 3, \"questionType\": 4, \"questionId\": \"4_ExpectedSlotsPayout\", \"learnToolsVersion\": \"0.3.5\", \"valueTowardsCompletion\": 0.0, \"failureMessage\": \"\", \"exceptionClass\": \"\", \"trace\": \"\", \"outcomeType\": 4}}, \"*\")"
      ],
      "text/plain": [
       "<IPython.core.display.Javascript object>"
      ]
     },
     "metadata": {},
     "output_type": "display_data"
    },
    {
     "data": {
      "text/markdown": [
       "<span style=\"color:#33cc99\">Solution:</span> \n",
       "    \n",
       "The exact expected value of one pull of the slot machine is 0.025 - i.e. a little more than 2 cents.  See?  Not every game in the Python Challenge Casino is rigged against the player!\n",
       "\n",
       "In order to get this answer, you'll need to implement the `estimate_average_slot_payout(n_runs)` function to simulate pulling the slot machine `n_runs` times.  It should return the payout averaged over those `n_runs`.\n",
       "\n",
       "Then, once the function is defined, in order to estimate the average slot payout, we need only call the function.\n",
       "\n",
       "Because of the high variance of the outcome (there are some very rare high payout results that significantly affect the average) you might need to run your function with a very high value of `n_runs` to get a stable answer close to the true expectation.  For instance, you might use a value for `n_runs` of 1000000.\n",
       "\n",
       "Here's an example for how the function could look:\n",
       "```python\n",
       "def estimate_average_slot_payout(n_runs):\n",
       "    # Play slot machine n_runs times, calculate payout of each\n",
       "    payouts = [play_slot_machine()-1 for i in range(n_runs)]\n",
       "    # Calculate the average value\n",
       "    avg_payout = sum(payouts) / n_runs\n",
       "    return avg_payout\n",
       "    \n",
       "estimate_average_slot_payout(10000000)\n",
       "\n",
       "```\n",
       "\n",
       "This should return an answer close to 0.025!\n",
       "            \n"
      ],
      "text/plain": [
       "Solution: \n",
       "    \n",
       "The exact expected value of one pull of the slot machine is 0.025 - i.e. a little more than 2 cents.  See?  Not every game in the Python Challenge Casino is rigged against the player!\n",
       "\n",
       "In order to get this answer, you'll need to implement the `estimate_average_slot_payout(n_runs)` function to simulate pulling the slot machine `n_runs` times.  It should return the payout averaged over those `n_runs`.\n",
       "\n",
       "Then, once the function is defined, in order to estimate the average slot payout, we need only call the function.\n",
       "\n",
       "Because of the high variance of the outcome (there are some very rare high payout results that significantly affect the average) you might need to run your function with a very high value of `n_runs` to get a stable answer close to the true expectation.  For instance, you might use a value for `n_runs` of 1000000.\n",
       "\n",
       "Here's an example for how the function could look:\n",
       "```python\n",
       "def estimate_average_slot_payout(n_runs):\n",
       "    # Play slot machine n_runs times, calculate payout of each\n",
       "    payouts = [play_slot_machine()-1 for i in range(n_runs)]\n",
       "    # Calculate the average value\n",
       "    avg_payout = sum(payouts) / n_runs\n",
       "    return avg_payout\n",
       "    \n",
       "estimate_average_slot_payout(10000000)\n",
       "\n",
       "```\n",
       "\n",
       "This should return an answer close to 0.025!\n",
       "            "
      ]
     },
     "metadata": {},
     "output_type": "display_data"
    }
   ],
   "source": [
    "# Check your answer (Run this code cell to receive credit!)\n",
    "q4.solution()"
   ]
  },
  {
   "cell_type": "markdown",
   "id": "f8f0c6d1",
   "metadata": {
    "papermill": {
     "duration": 0.005102,
     "end_time": "2025-07-04T19:21:29.669819",
     "exception": false,
     "start_time": "2025-07-04T19:21:29.664717",
     "status": "completed"
    },
    "tags": []
   },
   "source": [
    "# Keep Going\n",
    "\n",
    "Many programmers report that dictionaries are their favorite data structure. You'll get to **[learn about them](https://www.kaggle.com/colinmorris/strings-and-dictionaries)** (as well as strings) in the next lesson."
   ]
  },
  {
   "cell_type": "markdown",
   "id": "d92bc901",
   "metadata": {
    "papermill": {
     "duration": 0.005105,
     "end_time": "2025-07-04T19:21:29.679989",
     "exception": false,
     "start_time": "2025-07-04T19:21:29.674884",
     "status": "completed"
    },
    "tags": []
   },
   "source": [
    "---\n",
    "\n",
    "\n",
    "\n",
    "\n",
    "*Have questions or comments? Visit the [course discussion forum](https://www.kaggle.com/learn/python/discussion) to chat with other learners.*"
   ]
  }
 ],
 "metadata": {
  "kaggle": {
   "accelerator": "none",
   "dataSources": [],
   "isGpuEnabled": false,
   "isInternetEnabled": false,
   "language": "python",
   "sourceType": "notebook"
  },
  "kernelspec": {
   "display_name": "Python 3",
   "language": "python",
   "name": "python3"
  },
  "language_info": {
   "codemirror_mode": {
    "name": "ipython",
    "version": 3
   },
   "file_extension": ".py",
   "mimetype": "text/x-python",
   "name": "python",
   "nbconvert_exporter": "python",
   "pygments_lexer": "ipython3",
   "version": "3.11.11"
  },
  "learntools_metadata": {
   "lesson_index": 4,
   "type": "exercise"
  },
  "papermill": {
   "default_parameters": {},
   "duration": 10.799482,
   "end_time": "2025-07-04T19:21:30.205304",
   "environment_variables": {},
   "exception": null,
   "input_path": "__notebook__.ipynb",
   "output_path": "__notebook__.ipynb",
   "parameters": {},
   "start_time": "2025-07-04T19:21:19.405822",
   "version": "2.6.0"
  }
 },
 "nbformat": 4,
 "nbformat_minor": 5
}
