{
 "cells": [
  {
   "cell_type": "markdown",
   "id": "0f1bf341",
   "metadata": {
    "papermill": {
     "duration": 0.005601,
     "end_time": "2025-06-24T07:35:29.118038",
     "exception": false,
     "start_time": "2025-06-24T07:35:29.112437",
     "status": "completed"
    },
    "tags": []
   },
   "source": [
    "**This notebook is an exercise in the [Python](https://www.kaggle.com/learn/python) course.  You can reference the tutorial at [this link](https://www.kaggle.com/colinmorris/hello-python).**\n",
    "\n",
    "---\n"
   ]
  },
  {
   "cell_type": "markdown",
   "id": "65d0144c",
   "metadata": {
    "papermill": {
     "duration": 0.00427,
     "end_time": "2025-06-24T07:35:29.127547",
     "exception": false,
     "start_time": "2025-06-24T07:35:29.123277",
     "status": "completed"
    },
    "tags": []
   },
   "source": [
    "Welcome to your first set of Python coding problems.  If this is your first time using Kaggle Notebooks, welcome! \n",
    "\n",
    "Notebooks are composed of blocks (called \"cells\") of text and code. Each of these is editable, though you'll mainly be editing the code cells to answer some questions.\n",
    "\n",
    "To get started, try running the code cell below (by pressing the ► button, or clicking on the cell and pressing ctrl+enter on your keyboard)."
   ]
  },
  {
   "cell_type": "code",
   "execution_count": 1,
   "id": "9f6ed503",
   "metadata": {
    "execution": {
     "iopub.execute_input": "2025-06-24T07:35:29.137623Z",
     "iopub.status.busy": "2025-06-24T07:35:29.137264Z",
     "iopub.status.idle": "2025-06-24T07:35:29.146065Z",
     "shell.execute_reply": "2025-06-24T07:35:29.145070Z"
    },
    "papermill": {
     "duration": 0.015467,
     "end_time": "2025-06-24T07:35:29.147378",
     "exception": false,
     "start_time": "2025-06-24T07:35:29.131911",
     "status": "completed"
    },
    "tags": []
   },
   "outputs": [
    {
     "name": "stdout",
     "output_type": "stream",
     "text": [
      "You've successfully run some Python code\n",
      "Congratulations!\n"
     ]
    }
   ],
   "source": [
    "print(\"You've successfully run some Python code\")\n",
    "print(\"Congratulations!\")"
   ]
  },
  {
   "cell_type": "markdown",
   "id": "ab4584d4",
   "metadata": {
    "papermill": {
     "duration": 0.004222,
     "end_time": "2025-06-24T07:35:29.156407",
     "exception": false,
     "start_time": "2025-06-24T07:35:29.152185",
     "status": "completed"
    },
    "tags": []
   },
   "source": [
    "Try adding another line of code in the cell above and re-running it. \n",
    "\n",
    "Now let's get a little fancier:  Add a new code cell by clicking on an existing code cell, hitting the escape key, and then hitting the `a` or `b` key.  The `a` key will add a cell above the current cell, and `b` adds a cell below.\n",
    "\n",
    "Great! Now you know how to use Notebooks.\n",
    "\n",
    "Each hands-on exercise starts by setting up our feedback and code checking mechanism. Run the code cell below to do that. Then you'll be ready to move on to question 0."
   ]
  },
  {
   "cell_type": "code",
   "execution_count": 2,
   "id": "2605cfce",
   "metadata": {
    "_kg_hide-input": true,
    "_kg_hide-output": true,
    "execution": {
     "iopub.execute_input": "2025-06-24T07:35:29.167175Z",
     "iopub.status.busy": "2025-06-24T07:35:29.166875Z",
     "iopub.status.idle": "2025-06-24T07:35:31.325635Z",
     "shell.execute_reply": "2025-06-24T07:35:31.324300Z"
    },
    "papermill": {
     "duration": 2.166731,
     "end_time": "2025-06-24T07:35:31.327824",
     "exception": false,
     "start_time": "2025-06-24T07:35:29.161093",
     "status": "completed"
    },
    "tags": []
   },
   "outputs": [
    {
     "name": "stdout",
     "output_type": "stream",
     "text": [
      "Setup complete! You're ready to start question 0.\n"
     ]
    }
   ],
   "source": [
    "from learntools.core import binder; binder.bind(globals())\n",
    "from learntools.python.ex1 import *\n",
    "print(\"Setup complete! You're ready to start question 0.\")"
   ]
  },
  {
   "cell_type": "markdown",
   "id": "e6202983",
   "metadata": {
    "papermill": {
     "duration": 0.008908,
     "end_time": "2025-06-24T07:35:31.342532",
     "exception": false,
     "start_time": "2025-06-24T07:35:31.333624",
     "status": "completed"
    },
    "tags": []
   },
   "source": [
    "# 0.\n",
    "\n",
    "*This is a silly question intended as an introduction to the format we use for hands-on exercises throughout all Kaggle courses.*\n",
    "\n",
    "**What is your favorite color? **\n",
    "\n",
    "To complete this question, create a variable called `color` in the cell below with an appropriate value. The function call `q0.check()` (which we've already provided in the cell below) will check your answer."
   ]
  },
  {
   "cell_type": "code",
   "execution_count": 3,
   "id": "000f2861",
   "metadata": {
    "execution": {
     "iopub.execute_input": "2025-06-24T07:35:31.361437Z",
     "iopub.status.busy": "2025-06-24T07:35:31.360935Z",
     "iopub.status.idle": "2025-06-24T07:35:31.369475Z",
     "shell.execute_reply": "2025-06-24T07:35:31.368682Z"
    },
    "papermill": {
     "duration": 0.01943,
     "end_time": "2025-06-24T07:35:31.371238",
     "exception": false,
     "start_time": "2025-06-24T07:35:31.351808",
     "status": "completed"
    },
    "tags": []
   },
   "outputs": [
    {
     "data": {
      "application/javascript": [
       "parent.postMessage({\"jupyterEvent\": \"custom.exercise_interaction\", \"data\": {\"outcomeType\": 1, \"valueTowardsCompletion\": 0.25, \"interactionType\": 1, \"questionType\": 2, \"questionId\": \"0_ExerciseFormatTutorial\", \"learnToolsVersion\": \"0.3.5\", \"failureMessage\": \"\", \"exceptionClass\": \"\", \"trace\": \"\"}}, \"*\")"
      ],
      "text/plain": [
       "<IPython.core.display.Javascript object>"
      ]
     },
     "metadata": {},
     "output_type": "display_data"
    },
    {
     "data": {
      "text/markdown": [
       "<span style=\"color:#33cc33\">Correct:</span> What?! You got it right without needing a hint or anything? Drats. Well hey, you should still continue to the next step to get some practice asking for a hint and checking solutions. (Even though you obviously don't need any help here.)"
      ],
      "text/plain": [
       "Correct: What?! You got it right without needing a hint or anything? Drats. Well hey, you should still continue to the next step to get some practice asking for a hint and checking solutions. (Even though you obviously don't need any help here.)"
      ]
     },
     "metadata": {},
     "output_type": "display_data"
    }
   ],
   "source": [
    "# create a variable called color with an appropriate value on the line below\n",
    "# (Remember, strings in Python must be enclosed in 'single' or \"double\" quotes)\n",
    "____\n",
    "color = \"Blue\"\n",
    "# Check your answer\n",
    "q0.check()"
   ]
  },
  {
   "cell_type": "markdown",
   "id": "cc83f9b9",
   "metadata": {
    "papermill": {
     "duration": 0.00757,
     "end_time": "2025-06-24T07:35:31.388154",
     "exception": false,
     "start_time": "2025-06-24T07:35:31.380584",
     "status": "completed"
    },
    "tags": []
   },
   "source": [
    "Didn't get the right answer? How do you not even know your own favorite color?!\n",
    "\n",
    "Delete the `#` in the line below to make one of the lines run. You can choose between getting a hint or the full answer by choosing which line to remove the `#` from. \n",
    "\n",
    "Removing the `#` is called uncommenting, because it changes that line from a \"comment\" which Python doesn't run to code, which Python does run."
   ]
  },
  {
   "cell_type": "code",
   "execution_count": 4,
   "id": "2d60aac6",
   "metadata": {
    "execution": {
     "iopub.execute_input": "2025-06-24T07:35:31.404461Z",
     "iopub.status.busy": "2025-06-24T07:35:31.404154Z",
     "iopub.status.idle": "2025-06-24T07:35:31.408598Z",
     "shell.execute_reply": "2025-06-24T07:35:31.407613Z"
    },
    "papermill": {
     "duration": 0.012959,
     "end_time": "2025-06-24T07:35:31.410467",
     "exception": false,
     "start_time": "2025-06-24T07:35:31.397508",
     "status": "completed"
    },
    "tags": []
   },
   "outputs": [],
   "source": [
    "#q0.hint()\n",
    "#q0.solution()"
   ]
  },
  {
   "cell_type": "markdown",
   "id": "e128290e",
   "metadata": {
    "papermill": {
     "duration": 0.008605,
     "end_time": "2025-06-24T07:35:31.429131",
     "exception": false,
     "start_time": "2025-06-24T07:35:31.420526",
     "status": "completed"
    },
    "tags": []
   },
   "source": [
    "The upcoming questions work the same way. The only thing that will change are the question numbers. For the next question, you'll call `q1.check()`, `q1.hint()`, `q1.solution()`, for question 2, you'll call `q2.check()`, and so on."
   ]
  },
  {
   "cell_type": "markdown",
   "id": "045ffb02",
   "metadata": {
    "papermill": {
     "duration": 0.004597,
     "end_time": "2025-06-24T07:35:31.438714",
     "exception": false,
     "start_time": "2025-06-24T07:35:31.434117",
     "status": "completed"
    },
    "tags": []
   },
   "source": [
    "<hr/>\n",
    "\n",
    "# 1.\n",
    "\n",
    "Complete the code below. In case it's helpful, here is the table of available arithmetic operations:\n",
    "\n",
    "\n",
    "\n",
    "| Operator     | Name           | Description                                            |\n",
    "|--------------|----------------|--------------------------------------------------------|\n",
    "| ``a + b``    | Addition       | Sum of ``a`` and ``b``                                 |\n",
    "| ``a - b``    | Subtraction    | Difference of ``a`` and ``b``                          |\n",
    "| ``a * b``    | Multiplication | Product of ``a`` and ``b``                             |\n",
    "| ``a / b``    | True division  | Quotient of ``a`` and ``b``                            |\n",
    "| ``a // b``   | Floor division | Quotient of ``a`` and ``b``, removing fractional parts |\n",
    "| ``a % b``    | Modulus        | Integer remainder after division of ``a`` by ``b``     |\n",
    "| ``a ** b``   | Exponentiation | ``a`` raised to the power of ``b``                     |\n",
    "| ``-a``       | Negation       | The negative of ``a``                                  |\n",
    "\n",
    "<span style=\"display:none\"></span>\n"
   ]
  },
  {
   "cell_type": "code",
   "execution_count": 5,
   "id": "87b2c18d",
   "metadata": {
    "execution": {
     "iopub.execute_input": "2025-06-24T07:35:31.454076Z",
     "iopub.status.busy": "2025-06-24T07:35:31.453544Z",
     "iopub.status.idle": "2025-06-24T07:35:31.463307Z",
     "shell.execute_reply": "2025-06-24T07:35:31.462379Z"
    },
    "papermill": {
     "duration": 0.018255,
     "end_time": "2025-06-24T07:35:31.464766",
     "exception": false,
     "start_time": "2025-06-24T07:35:31.446511",
     "status": "completed"
    },
    "tags": []
   },
   "outputs": [
    {
     "data": {
      "application/javascript": [
       "parent.postMessage({\"jupyterEvent\": \"custom.exercise_interaction\", \"data\": {\"outcomeType\": 1, \"valueTowardsCompletion\": 0.25, \"interactionType\": 1, \"questionType\": 1, \"questionId\": \"1_CircleArea\", \"learnToolsVersion\": \"0.3.5\", \"failureMessage\": \"\", \"exceptionClass\": \"\", \"trace\": \"\"}}, \"*\")"
      ],
      "text/plain": [
       "<IPython.core.display.Javascript object>"
      ]
     },
     "metadata": {},
     "output_type": "display_data"
    },
    {
     "data": {
      "text/markdown": [
       "<span style=\"color:#33cc33\">Correct</span>"
      ],
      "text/plain": [
       "Correct"
      ]
     },
     "metadata": {},
     "output_type": "display_data"
    }
   ],
   "source": [
    "pi = 3.14159 # approximate\n",
    "diameter = 3\n",
    "\n",
    "# Create a variable called 'radius' equal to half the diameter\n",
    "radius = float(diameter) / 2\n",
    "____\n",
    "\n",
    "# Create a variable called 'area', using the formula for the area of a circle: pi times the radius squared\n",
    "area = pi * (radius ** 2)\n",
    "____\n",
    "\n",
    "# Check your answer\n",
    "q1.check()"
   ]
  },
  {
   "cell_type": "code",
   "execution_count": 6,
   "id": "29490ace",
   "metadata": {
    "execution": {
     "iopub.execute_input": "2025-06-24T07:35:31.478434Z",
     "iopub.status.busy": "2025-06-24T07:35:31.477904Z",
     "iopub.status.idle": "2025-06-24T07:35:31.482320Z",
     "shell.execute_reply": "2025-06-24T07:35:31.481529Z"
    },
    "papermill": {
     "duration": 0.013174,
     "end_time": "2025-06-24T07:35:31.483699",
     "exception": false,
     "start_time": "2025-06-24T07:35:31.470525",
     "status": "completed"
    },
    "tags": []
   },
   "outputs": [],
   "source": [
    "# Uncomment and run the lines below if you need help.\n",
    "#q1.hint()\n",
    "#q1.solution()"
   ]
  },
  {
   "cell_type": "markdown",
   "id": "14f4c42a",
   "metadata": {
    "papermill": {
     "duration": 0.00461,
     "end_time": "2025-06-24T07:35:31.493451",
     "exception": false,
     "start_time": "2025-06-24T07:35:31.488841",
     "status": "completed"
    },
    "tags": []
   },
   "source": [
    "<hr/>\n",
    "\n",
    "# 2.\n",
    "\n",
    "Add code to the following cell to swap variables `a` and `b` (so that `a` refers to the object previously referred to by `b` and vice versa)."
   ]
  },
  {
   "cell_type": "code",
   "execution_count": 7,
   "id": "5f2eb385",
   "metadata": {
    "execution": {
     "iopub.execute_input": "2025-06-24T07:35:31.506116Z",
     "iopub.status.busy": "2025-06-24T07:35:31.505759Z",
     "iopub.status.idle": "2025-06-24T07:35:31.514186Z",
     "shell.execute_reply": "2025-06-24T07:35:31.513357Z"
    },
    "papermill": {
     "duration": 0.015412,
     "end_time": "2025-06-24T07:35:31.515453",
     "exception": false,
     "start_time": "2025-06-24T07:35:31.500041",
     "status": "completed"
    },
    "tags": []
   },
   "outputs": [
    {
     "data": {
      "application/javascript": [
       "parent.postMessage({\"jupyterEvent\": \"custom.exercise_interaction\", \"data\": {\"outcomeType\": 1, \"valueTowardsCompletion\": 0.25, \"interactionType\": 1, \"questionType\": 2, \"questionId\": \"2_VariableSwap\", \"learnToolsVersion\": \"0.3.5\", \"failureMessage\": \"\", \"exceptionClass\": \"\", \"trace\": \"\"}}, \"*\")"
      ],
      "text/plain": [
       "<IPython.core.display.Javascript object>"
      ]
     },
     "metadata": {},
     "output_type": "display_data"
    },
    {
     "data": {
      "text/markdown": [
       "<span style=\"color:#33cc33\">Correct:</span> \n",
       "\n",
       "The most straightforward solution is to use a third variable to temporarily store one of the old values. e.g.:\n",
       "\n",
       "    tmp = a\n",
       "    a = b\n",
       "    b = tmp\n",
       "\n",
       "If you've read lots of Python code, you might have seen the following trick to swap two variables in one line:\n",
       "\n",
       "    a, b = b, a\n",
       "\n",
       "We'll demystify this bit of Python magic later when we talk about *tuples*."
      ],
      "text/plain": [
       "Correct: \n",
       "\n",
       "The most straightforward solution is to use a third variable to temporarily store one of the old values. e.g.:\n",
       "\n",
       "    tmp = a\n",
       "    a = b\n",
       "    b = tmp\n",
       "\n",
       "If you've read lots of Python code, you might have seen the following trick to swap two variables in one line:\n",
       "\n",
       "    a, b = b, a\n",
       "\n",
       "We'll demystify this bit of Python magic later when we talk about *tuples*."
      ]
     },
     "metadata": {},
     "output_type": "display_data"
    }
   ],
   "source": [
    "########### Setup code - don't touch this part ######################\n",
    "# If you're curious, these are examples of lists. We'll talk about \n",
    "# them in depth a few lessons from now. For now, just know that they're\n",
    "# yet another type of Python object, like int or float.\n",
    "\n",
    "a = [1, 2, 3]\n",
    "b = [3, 2, 1]\n",
    "q2.store_original_ids()\n",
    "######################################################################\n",
    "a, b = b, a\n",
    "# Your code goes here. Swap the values to which a and b refer.\n",
    "# If you get stuck, you can always uncomment one or both of the lines in\n",
    "# the next cell for a hint, or to peek at the solution.\n",
    "\n",
    "######################################################################\n",
    "\n",
    "# Check your answer\n",
    "q2.check()"
   ]
  },
  {
   "cell_type": "code",
   "execution_count": 8,
   "id": "6c838291",
   "metadata": {
    "execution": {
     "iopub.execute_input": "2025-06-24T07:35:31.527504Z",
     "iopub.status.busy": "2025-06-24T07:35:31.526740Z",
     "iopub.status.idle": "2025-06-24T07:35:31.530596Z",
     "shell.execute_reply": "2025-06-24T07:35:31.529829Z"
    },
    "papermill": {
     "duration": 0.011229,
     "end_time": "2025-06-24T07:35:31.532070",
     "exception": false,
     "start_time": "2025-06-24T07:35:31.520841",
     "status": "completed"
    },
    "tags": []
   },
   "outputs": [],
   "source": [
    "#q2.hint()"
   ]
  },
  {
   "cell_type": "code",
   "execution_count": 9,
   "id": "acd5a2bc",
   "metadata": {
    "execution": {
     "iopub.execute_input": "2025-06-24T07:35:31.543645Z",
     "iopub.status.busy": "2025-06-24T07:35:31.543353Z",
     "iopub.status.idle": "2025-06-24T07:35:31.547080Z",
     "shell.execute_reply": "2025-06-24T07:35:31.546425Z"
    },
    "papermill": {
     "duration": 0.011013,
     "end_time": "2025-06-24T07:35:31.548303",
     "exception": false,
     "start_time": "2025-06-24T07:35:31.537290",
     "status": "completed"
    },
    "tags": []
   },
   "outputs": [],
   "source": [
    "#q2.solution()"
   ]
  },
  {
   "cell_type": "markdown",
   "id": "84656994",
   "metadata": {
    "papermill": {
     "duration": 0.005057,
     "end_time": "2025-06-24T07:35:31.558482",
     "exception": false,
     "start_time": "2025-06-24T07:35:31.553425",
     "status": "completed"
    },
    "tags": []
   },
   "source": [
    "<hr/>\n",
    "\n",
    "# 3a.\n",
    "\n",
    "Add parentheses to the following expression so that it evaluates to 1."
   ]
  },
  {
   "cell_type": "code",
   "execution_count": 10,
   "id": "4765347c",
   "metadata": {
    "execution": {
     "iopub.execute_input": "2025-06-24T07:35:31.569725Z",
     "iopub.status.busy": "2025-06-24T07:35:31.569427Z",
     "iopub.status.idle": "2025-06-24T07:35:31.574447Z",
     "shell.execute_reply": "2025-06-24T07:35:31.573824Z"
    },
    "papermill": {
     "duration": 0.012112,
     "end_time": "2025-06-24T07:35:31.575750",
     "exception": false,
     "start_time": "2025-06-24T07:35:31.563638",
     "status": "completed"
    },
    "tags": []
   },
   "outputs": [
    {
     "data": {
      "text/plain": [
       "1"
      ]
     },
     "execution_count": 10,
     "metadata": {},
     "output_type": "execute_result"
    }
   ],
   "source": [
    "(5 - 3) // 2"
   ]
  },
  {
   "cell_type": "code",
   "execution_count": 11,
   "id": "7382f4d5",
   "metadata": {
    "execution": {
     "iopub.execute_input": "2025-06-24T07:35:31.587915Z",
     "iopub.status.busy": "2025-06-24T07:35:31.587068Z",
     "iopub.status.idle": "2025-06-24T07:35:31.590674Z",
     "shell.execute_reply": "2025-06-24T07:35:31.590079Z"
    },
    "papermill": {
     "duration": 0.010922,
     "end_time": "2025-06-24T07:35:31.591929",
     "exception": false,
     "start_time": "2025-06-24T07:35:31.581007",
     "status": "completed"
    },
    "tags": []
   },
   "outputs": [],
   "source": [
    "#q3.a.hint()"
   ]
  },
  {
   "cell_type": "code",
   "execution_count": 12,
   "id": "0651ab65",
   "metadata": {
    "execution": {
     "iopub.execute_input": "2025-06-24T07:35:31.603648Z",
     "iopub.status.busy": "2025-06-24T07:35:31.603341Z",
     "iopub.status.idle": "2025-06-24T07:35:31.609862Z",
     "shell.execute_reply": "2025-06-24T07:35:31.609037Z"
    },
    "papermill": {
     "duration": 0.013938,
     "end_time": "2025-06-24T07:35:31.611140",
     "exception": false,
     "start_time": "2025-06-24T07:35:31.597202",
     "status": "completed"
    },
    "tags": []
   },
   "outputs": [
    {
     "data": {
      "application/javascript": [
       "parent.postMessage({\"jupyterEvent\": \"custom.exercise_interaction\", \"data\": {\"interactionType\": 3, \"questionType\": 4, \"questionId\": \"3.1_ArithmeticParensEasy\", \"learnToolsVersion\": \"0.3.5\", \"valueTowardsCompletion\": 0.0, \"failureMessage\": \"\", \"exceptionClass\": \"\", \"trace\": \"\", \"outcomeType\": 4}}, \"*\")"
      ],
      "text/plain": [
       "<IPython.core.display.Javascript object>"
      ]
     },
     "metadata": {},
     "output_type": "display_data"
    },
    {
     "data": {
      "text/markdown": [
       "<span style=\"color:#33cc99\">Solution:</span> \n",
       "```python\n",
       "(5 - 3) // 2\n",
       "```"
      ],
      "text/plain": [
       "Solution: \n",
       "```python\n",
       "(5 - 3) // 2\n",
       "```"
      ]
     },
     "metadata": {},
     "output_type": "display_data"
    }
   ],
   "source": [
    "# Check your answer (Run this code cell to receive credit!)\n",
    "q3.a.solution()"
   ]
  },
  {
   "cell_type": "markdown",
   "id": "8c7d332c",
   "metadata": {
    "papermill": {
     "duration": 0.005124,
     "end_time": "2025-06-24T07:35:31.622269",
     "exception": false,
     "start_time": "2025-06-24T07:35:31.617145",
     "status": "completed"
    },
    "tags": []
   },
   "source": [
    "# 3b.  <span title=\"A bit spicy\" style=\"color: darkgreen \">🌶️</span>\n",
    "\n",
    "<small>Questions, like this one, marked a spicy pepper are a bit harder.</small>\n",
    "\n",
    "Add parentheses to the following expression so that it evaluates to 0."
   ]
  },
  {
   "cell_type": "code",
   "execution_count": 13,
   "id": "3ba3abee",
   "metadata": {
    "execution": {
     "iopub.execute_input": "2025-06-24T07:35:31.634146Z",
     "iopub.status.busy": "2025-06-24T07:35:31.633872Z",
     "iopub.status.idle": "2025-06-24T07:35:31.639816Z",
     "shell.execute_reply": "2025-06-24T07:35:31.639039Z"
    },
    "papermill": {
     "duration": 0.013684,
     "end_time": "2025-06-24T07:35:31.641247",
     "exception": false,
     "start_time": "2025-06-24T07:35:31.627563",
     "status": "completed"
    },
    "tags": []
   },
   "outputs": [
    {
     "data": {
      "text/plain": [
       "0"
      ]
     },
     "execution_count": 13,
     "metadata": {},
     "output_type": "execute_result"
    }
   ],
   "source": [
    "(8 - 3) * (2 - (1 + 1))"
   ]
  },
  {
   "cell_type": "code",
   "execution_count": 14,
   "id": "642f0265",
   "metadata": {
    "execution": {
     "iopub.execute_input": "2025-06-24T07:35:31.653663Z",
     "iopub.status.busy": "2025-06-24T07:35:31.653333Z",
     "iopub.status.idle": "2025-06-24T07:35:31.657057Z",
     "shell.execute_reply": "2025-06-24T07:35:31.656353Z"
    },
    "papermill": {
     "duration": 0.011349,
     "end_time": "2025-06-24T07:35:31.658302",
     "exception": false,
     "start_time": "2025-06-24T07:35:31.646953",
     "status": "completed"
    },
    "tags": []
   },
   "outputs": [],
   "source": [
    "#q3.b.hint()"
   ]
  },
  {
   "cell_type": "code",
   "execution_count": 15,
   "id": "caccc70d",
   "metadata": {
    "execution": {
     "iopub.execute_input": "2025-06-24T07:35:31.671201Z",
     "iopub.status.busy": "2025-06-24T07:35:31.670528Z",
     "iopub.status.idle": "2025-06-24T07:35:31.677094Z",
     "shell.execute_reply": "2025-06-24T07:35:31.676438Z"
    },
    "papermill": {
     "duration": 0.014262,
     "end_time": "2025-06-24T07:35:31.678316",
     "exception": false,
     "start_time": "2025-06-24T07:35:31.664054",
     "status": "completed"
    },
    "tags": []
   },
   "outputs": [
    {
     "data": {
      "application/javascript": [
       "parent.postMessage({\"jupyterEvent\": \"custom.exercise_interaction\", \"data\": {\"interactionType\": 3, \"questionType\": 4, \"questionId\": \"3.2_ArithmeticParensHard\", \"learnToolsVersion\": \"0.3.5\", \"valueTowardsCompletion\": 0.0, \"failureMessage\": \"\", \"exceptionClass\": \"\", \"trace\": \"\", \"outcomeType\": 4}}, \"*\")"
      ],
      "text/plain": [
       "<IPython.core.display.Javascript object>"
      ]
     },
     "metadata": {},
     "output_type": "display_data"
    },
    {
     "data": {
      "text/markdown": [
       "<span style=\"color:#33cc99\">Solution:</span> `(8 - 3) * (2 - (1 + 1))` is one solution. There may be others."
      ],
      "text/plain": [
       "Solution: `(8 - 3) * (2 - (1 + 1))` is one solution. There may be others."
      ]
     },
     "metadata": {},
     "output_type": "display_data"
    }
   ],
   "source": [
    "# Check your answer (Run this code cell to receive credit!)\n",
    "q3.b.solution()"
   ]
  },
  {
   "cell_type": "markdown",
   "id": "31653843",
   "metadata": {
    "papermill": {
     "duration": 0.005459,
     "end_time": "2025-06-24T07:35:31.689583",
     "exception": false,
     "start_time": "2025-06-24T07:35:31.684124",
     "status": "completed"
    },
    "tags": []
   },
   "source": [
    "<hr/>\n",
    "\n",
    "# 4. \n",
    "Alice, Bob and Carol have agreed to pool their Halloween candy and split it evenly among themselves.\n",
    "For the sake of their friendship, any candies left over will be smashed. For example, if they collectively\n",
    "bring home 91 candies, they'll take 30 each and smash 1.\n",
    "\n",
    "Write an arithmetic expression below to calculate how many candies they must smash for a given haul."
   ]
  },
  {
   "cell_type": "code",
   "execution_count": 16,
   "id": "90ad5667",
   "metadata": {
    "execution": {
     "iopub.execute_input": "2025-06-24T07:35:31.702237Z",
     "iopub.status.busy": "2025-06-24T07:35:31.701644Z",
     "iopub.status.idle": "2025-06-24T07:35:31.708881Z",
     "shell.execute_reply": "2025-06-24T07:35:31.708135Z"
    },
    "papermill": {
     "duration": 0.01504,
     "end_time": "2025-06-24T07:35:31.710111",
     "exception": false,
     "start_time": "2025-06-24T07:35:31.695071",
     "status": "completed"
    },
    "tags": []
   },
   "outputs": [
    {
     "data": {
      "application/javascript": [
       "parent.postMessage({\"jupyterEvent\": \"custom.exercise_interaction\", \"data\": {\"outcomeType\": 1, \"valueTowardsCompletion\": 0.25, \"interactionType\": 1, \"questionType\": 1, \"questionId\": \"4_CandySplitting\", \"learnToolsVersion\": \"0.3.5\", \"failureMessage\": \"\", \"exceptionClass\": \"\", \"trace\": \"\"}}, \"*\")"
      ],
      "text/plain": [
       "<IPython.core.display.Javascript object>"
      ]
     },
     "metadata": {},
     "output_type": "display_data"
    },
    {
     "data": {
      "text/markdown": [
       "<span style=\"color:#33cc33\">Correct</span>"
      ],
      "text/plain": [
       "Correct"
      ]
     },
     "metadata": {},
     "output_type": "display_data"
    }
   ],
   "source": [
    "# Variables representing the number of candies collected by alice, bob, and carol\n",
    "alice_candies = 121\n",
    "bob_candies = 77\n",
    "carol_candies = 109\n",
    "\n",
    "# Your code goes here! Replace the right-hand side of this assignment with an expression\n",
    "# involving alice_candies, bob_candies, and carol_candies\n",
    "to_smash = (alice_candies + bob_candies + carol_candies)%3\n",
    "\n",
    "# Check your answer\n",
    "q4.check()"
   ]
  },
  {
   "cell_type": "code",
   "execution_count": 17,
   "id": "31f5ecc2",
   "metadata": {
    "execution": {
     "iopub.execute_input": "2025-06-24T07:35:31.723148Z",
     "iopub.status.busy": "2025-06-24T07:35:31.722854Z",
     "iopub.status.idle": "2025-06-24T07:35:31.726874Z",
     "shell.execute_reply": "2025-06-24T07:35:31.725752Z"
    },
    "papermill": {
     "duration": 0.012223,
     "end_time": "2025-06-24T07:35:31.728316",
     "exception": false,
     "start_time": "2025-06-24T07:35:31.716093",
     "status": "completed"
    },
    "tags": []
   },
   "outputs": [],
   "source": [
    "#q4.hint()\n",
    "#q4.solution()"
   ]
  },
  {
   "cell_type": "markdown",
   "id": "78eeccbe",
   "metadata": {
    "papermill": {
     "duration": 0.00569,
     "end_time": "2025-06-24T07:35:31.740060",
     "exception": false,
     "start_time": "2025-06-24T07:35:31.734370",
     "status": "completed"
    },
    "tags": []
   },
   "source": [
    "# Keep Going\n",
    "\n",
    "Next up, you'll **[learn to write new functions and understand functions others write](https://www.kaggle.com/colinmorris/functions-and-getting-help)**. This will make you at least 10 times more productive as a Python programmer. "
   ]
  },
  {
   "cell_type": "markdown",
   "id": "9c27b1eb",
   "metadata": {
    "papermill": {
     "duration": 0.005518,
     "end_time": "2025-06-24T07:35:31.751328",
     "exception": false,
     "start_time": "2025-06-24T07:35:31.745810",
     "status": "completed"
    },
    "tags": []
   },
   "source": [
    "---\n",
    "\n",
    "\n",
    "\n",
    "\n",
    "*Have questions or comments? Visit the [course discussion forum](https://www.kaggle.com/learn/python/discussion) to chat with other learners.*"
   ]
  }
 ],
 "metadata": {
  "kaggle": {
   "accelerator": "none",
   "dataSources": [],
   "isGpuEnabled": false,
   "isInternetEnabled": false,
   "language": "python",
   "sourceType": "notebook"
  },
  "kernelspec": {
   "display_name": "Python 3",
   "language": "python",
   "name": "python3"
  },
  "language_info": {
   "codemirror_mode": {
    "name": "ipython",
    "version": 3
   },
   "file_extension": ".py",
   "mimetype": "text/x-python",
   "name": "python",
   "nbconvert_exporter": "python",
   "pygments_lexer": "ipython3",
   "version": "3.11.11"
  },
  "learntools_metadata": {
   "lesson_index": 0,
   "type": "exercise"
  },
  "papermill": {
   "default_parameters": {},
   "duration": 8.296695,
   "end_time": "2025-06-24T07:35:32.278548",
   "environment_variables": {},
   "exception": null,
   "input_path": "__notebook__.ipynb",
   "output_path": "__notebook__.ipynb",
   "parameters": {},
   "start_time": "2025-06-24T07:35:23.981853",
   "version": "2.6.0"
  }
 },
 "nbformat": 4,
 "nbformat_minor": 5
}
