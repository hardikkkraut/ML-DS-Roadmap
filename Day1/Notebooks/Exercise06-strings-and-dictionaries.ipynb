{
 "cells": [
  {
   "cell_type": "markdown",
   "id": "ed919063",
   "metadata": {
    "papermill": {
     "duration": 0.005302,
     "end_time": "2025-07-05T10:17:05.389907",
     "exception": false,
     "start_time": "2025-07-05T10:17:05.384605",
     "status": "completed"
    },
    "tags": []
   },
   "source": [
    "**This notebook is an exercise in the [Python](https://www.kaggle.com/learn/python) course.  You can reference the tutorial at [this link](https://www.kaggle.com/colinmorris/strings-and-dictionaries).**\n",
    "\n",
    "---\n"
   ]
  },
  {
   "cell_type": "markdown",
   "id": "1af323f2",
   "metadata": {
    "papermill": {
     "duration": 0.003418,
     "end_time": "2025-07-05T10:17:05.397400",
     "exception": false,
     "start_time": "2025-07-05T10:17:05.393982",
     "status": "completed"
    },
    "tags": []
   },
   "source": [
    "You are almost done with the course. Nice job!\n",
    "\n",
    "We have a couple more interesting problems for you before you go. \n",
    "\n",
    "As always, run the setup code below before working on the questions."
   ]
  },
  {
   "cell_type": "code",
   "execution_count": 1,
   "id": "eda3f9f7",
   "metadata": {
    "execution": {
     "iopub.execute_input": "2025-07-05T10:17:05.406663Z",
     "iopub.status.busy": "2025-07-05T10:17:05.406195Z",
     "iopub.status.idle": "2025-07-05T10:17:07.548654Z",
     "shell.execute_reply": "2025-07-05T10:17:07.547033Z"
    },
    "papermill": {
     "duration": 2.149996,
     "end_time": "2025-07-05T10:17:07.551152",
     "exception": false,
     "start_time": "2025-07-05T10:17:05.401156",
     "status": "completed"
    },
    "tags": []
   },
   "outputs": [
    {
     "name": "stdout",
     "output_type": "stream",
     "text": [
      "Setup complete.\n"
     ]
    }
   ],
   "source": [
    "from learntools.core import binder; binder.bind(globals())\n",
    "from learntools.python.ex6 import *\n",
    "print('Setup complete.')"
   ]
  },
  {
   "cell_type": "markdown",
   "id": "3f09b984",
   "metadata": {
    "papermill": {
     "duration": 0.008335,
     "end_time": "2025-07-05T10:17:07.565875",
     "exception": false,
     "start_time": "2025-07-05T10:17:07.557540",
     "status": "completed"
    },
    "tags": []
   },
   "source": [
    "Let's start with a string lightning round to warm up. What are the lengths of the strings below?\n",
    "\n",
    "For each of the five strings below, predict what `len()` would return when passed that string. Use the variable `length` to record your answer, then run the cell to check whether you were right.  \n",
    "\n",
    "# 0a."
   ]
  },
  {
   "cell_type": "code",
   "execution_count": 2,
   "id": "4c048c83",
   "metadata": {
    "execution": {
     "iopub.execute_input": "2025-07-05T10:17:07.578547Z",
     "iopub.status.busy": "2025-07-05T10:17:07.576947Z",
     "iopub.status.idle": "2025-07-05T10:17:07.589494Z",
     "shell.execute_reply": "2025-07-05T10:17:07.588612Z"
    },
    "papermill": {
     "duration": 0.02005,
     "end_time": "2025-07-05T10:17:07.591356",
     "exception": false,
     "start_time": "2025-07-05T10:17:07.571306",
     "status": "completed"
    },
    "tags": []
   },
   "outputs": [
    {
     "data": {
      "application/javascript": [
       "parent.postMessage({\"jupyterEvent\": \"custom.exercise_interaction\", \"data\": {\"outcomeType\": 1, \"valueTowardsCompletion\": 0.3333333333333333, \"interactionType\": 1, \"questionType\": 1, \"questionId\": \"0.1_ZA\", \"learnToolsVersion\": \"0.3.5\", \"failureMessage\": \"\", \"exceptionClass\": \"\", \"trace\": \"\"}}, \"*\")"
      ],
      "text/plain": [
       "<IPython.core.display.Javascript object>"
      ]
     },
     "metadata": {},
     "output_type": "display_data"
    },
    {
     "data": {
      "text/markdown": [
       "<span style=\"color:#33cc33\">Correct:</span> \n",
       "\n",
       "The empty string has length zero. Note that the empty string is also the only string that Python considers as False when converting to boolean."
      ],
      "text/plain": [
       "Correct: \n",
       "\n",
       "The empty string has length zero. Note that the empty string is also the only string that Python considers as False when converting to boolean."
      ]
     },
     "metadata": {},
     "output_type": "display_data"
    }
   ],
   "source": [
    "a = \"\"\n",
    "length = len(a)\n",
    "q0.a.check()\n"
   ]
  },
  {
   "cell_type": "markdown",
   "id": "7559210b",
   "metadata": {
    "papermill": {
     "duration": 0.007678,
     "end_time": "2025-07-05T10:17:07.607232",
     "exception": false,
     "start_time": "2025-07-05T10:17:07.599554",
     "status": "completed"
    },
    "tags": []
   },
   "source": [
    "# 0b."
   ]
  },
  {
   "cell_type": "code",
   "execution_count": 3,
   "id": "8814f699",
   "metadata": {
    "execution": {
     "iopub.execute_input": "2025-07-05T10:17:07.618335Z",
     "iopub.status.busy": "2025-07-05T10:17:07.617971Z",
     "iopub.status.idle": "2025-07-05T10:17:07.629250Z",
     "shell.execute_reply": "2025-07-05T10:17:07.627835Z"
    },
    "papermill": {
     "duration": 0.019655,
     "end_time": "2025-07-05T10:17:07.631389",
     "exception": false,
     "start_time": "2025-07-05T10:17:07.611734",
     "status": "completed"
    },
    "tags": []
   },
   "outputs": [
    {
     "data": {
      "application/javascript": [
       "parent.postMessage({\"jupyterEvent\": \"custom.exercise_interaction\", \"data\": {\"outcomeType\": 1, \"valueTowardsCompletion\": 0.3333333333333333, \"interactionType\": 1, \"questionType\": 1, \"questionId\": \"0.2_ZB\", \"learnToolsVersion\": \"0.3.5\", \"failureMessage\": \"\", \"exceptionClass\": \"\", \"trace\": \"\"}}, \"*\")"
      ],
      "text/plain": [
       "<IPython.core.display.Javascript object>"
      ]
     },
     "metadata": {},
     "output_type": "display_data"
    },
    {
     "data": {
      "text/markdown": [
       "<span style=\"color:#33cc33\">Correct:</span> \n",
       "\n",
       "Keep in mind Python includes spaces (and punctuation) when counting string length."
      ],
      "text/plain": [
       "Correct: \n",
       "\n",
       "Keep in mind Python includes spaces (and punctuation) when counting string length."
      ]
     },
     "metadata": {},
     "output_type": "display_data"
    }
   ],
   "source": [
    "b = \"it's ok\"\n",
    "length = len(b)\n",
    "q0.b.check()"
   ]
  },
  {
   "cell_type": "markdown",
   "id": "365a8f0d",
   "metadata": {
    "papermill": {
     "duration": 0.005418,
     "end_time": "2025-07-05T10:17:07.644400",
     "exception": false,
     "start_time": "2025-07-05T10:17:07.638982",
     "status": "completed"
    },
    "tags": []
   },
   "source": [
    "# 0c."
   ]
  },
  {
   "cell_type": "code",
   "execution_count": 4,
   "id": "953e606a",
   "metadata": {
    "execution": {
     "iopub.execute_input": "2025-07-05T10:17:07.659551Z",
     "iopub.status.busy": "2025-07-05T10:17:07.658999Z",
     "iopub.status.idle": "2025-07-05T10:17:07.670188Z",
     "shell.execute_reply": "2025-07-05T10:17:07.668576Z"
    },
    "papermill": {
     "duration": 0.020397,
     "end_time": "2025-07-05T10:17:07.672472",
     "exception": false,
     "start_time": "2025-07-05T10:17:07.652075",
     "status": "completed"
    },
    "tags": []
   },
   "outputs": [
    {
     "data": {
      "application/javascript": [
       "parent.postMessage({\"jupyterEvent\": \"custom.exercise_interaction\", \"data\": {\"outcomeType\": 1, \"valueTowardsCompletion\": 0.3333333333333333, \"interactionType\": 1, \"questionType\": 1, \"questionId\": \"0.3_ZC\", \"learnToolsVersion\": \"0.3.5\", \"failureMessage\": \"\", \"exceptionClass\": \"\", \"trace\": \"\"}}, \"*\")"
      ],
      "text/plain": [
       "<IPython.core.display.Javascript object>"
      ]
     },
     "metadata": {},
     "output_type": "display_data"
    },
    {
     "data": {
      "text/markdown": [
       "<span style=\"color:#33cc33\">Correct:</span> \n",
       "\n",
       "Even though we use different syntax to create it, the string `c` is identical to `b`. In particular, note that the backslash is not part of the string, so it doesn't contribute to its length."
      ],
      "text/plain": [
       "Correct: \n",
       "\n",
       "Even though we use different syntax to create it, the string `c` is identical to `b`. In particular, note that the backslash is not part of the string, so it doesn't contribute to its length."
      ]
     },
     "metadata": {},
     "output_type": "display_data"
    }
   ],
   "source": [
    "c = 'it\\'s ok'\n",
    "length = len(c)\n",
    "q0.c.check()"
   ]
  },
  {
   "cell_type": "markdown",
   "id": "018b5c12",
   "metadata": {
    "papermill": {
     "duration": 0.006583,
     "end_time": "2025-07-05T10:17:07.686136",
     "exception": false,
     "start_time": "2025-07-05T10:17:07.679553",
     "status": "completed"
    },
    "tags": []
   },
   "source": [
    "# 0d."
   ]
  },
  {
   "cell_type": "code",
   "execution_count": 5,
   "id": "a0b6d560",
   "metadata": {
    "execution": {
     "iopub.execute_input": "2025-07-05T10:17:07.698084Z",
     "iopub.status.busy": "2025-07-05T10:17:07.696330Z",
     "iopub.status.idle": "2025-07-05T10:17:07.708750Z",
     "shell.execute_reply": "2025-07-05T10:17:07.707265Z"
    },
    "papermill": {
     "duration": 0.020605,
     "end_time": "2025-07-05T10:17:07.711094",
     "exception": false,
     "start_time": "2025-07-05T10:17:07.690489",
     "status": "completed"
    },
    "tags": []
   },
   "outputs": [
    {
     "data": {
      "application/javascript": [
       "parent.postMessage({\"jupyterEvent\": \"custom.exercise_interaction\", \"data\": {\"outcomeType\": 1, \"valueTowardsCompletion\": 0.3333333333333333, \"interactionType\": 1, \"questionType\": 1, \"questionId\": \"0.4_ZD\", \"learnToolsVersion\": \"0.3.5\", \"failureMessage\": \"\", \"exceptionClass\": \"\", \"trace\": \"\"}}, \"*\")"
      ],
      "text/plain": [
       "<IPython.core.display.Javascript object>"
      ]
     },
     "metadata": {},
     "output_type": "display_data"
    },
    {
     "data": {
      "text/markdown": [
       "<span style=\"color:#33cc33\">Correct:</span> \n",
       "\n",
       "The fact that this string was created using triple-quote syntax doesn't make any difference in terms of its content or length. This string is exactly the same as `'hey'`."
      ],
      "text/plain": [
       "Correct: \n",
       "\n",
       "The fact that this string was created using triple-quote syntax doesn't make any difference in terms of its content or length. This string is exactly the same as `'hey'`."
      ]
     },
     "metadata": {},
     "output_type": "display_data"
    }
   ],
   "source": [
    "d = \"\"\"hey\"\"\"\n",
    "length = len(d)\n",
    "q0.d.check()"
   ]
  },
  {
   "cell_type": "markdown",
   "id": "8df0e995",
   "metadata": {
    "papermill": {
     "duration": 0.005998,
     "end_time": "2025-07-05T10:17:07.725429",
     "exception": false,
     "start_time": "2025-07-05T10:17:07.719431",
     "status": "completed"
    },
    "tags": []
   },
   "source": [
    "# 0e."
   ]
  },
  {
   "cell_type": "code",
   "execution_count": 6,
   "id": "04ac5ad5",
   "metadata": {
    "execution": {
     "iopub.execute_input": "2025-07-05T10:17:07.742975Z",
     "iopub.status.busy": "2025-07-05T10:17:07.742042Z",
     "iopub.status.idle": "2025-07-05T10:17:07.751007Z",
     "shell.execute_reply": "2025-07-05T10:17:07.750133Z"
    },
    "papermill": {
     "duration": 0.01965,
     "end_time": "2025-07-05T10:17:07.753370",
     "exception": false,
     "start_time": "2025-07-05T10:17:07.733720",
     "status": "completed"
    },
    "tags": []
   },
   "outputs": [
    {
     "data": {
      "application/javascript": [
       "parent.postMessage({\"jupyterEvent\": \"custom.exercise_interaction\", \"data\": {\"outcomeType\": 1, \"valueTowardsCompletion\": 0.3333333333333333, \"interactionType\": 1, \"questionType\": 1, \"questionId\": \"0.5_ZE\", \"learnToolsVersion\": \"0.3.5\", \"failureMessage\": \"\", \"exceptionClass\": \"\", \"trace\": \"\"}}, \"*\")"
      ],
      "text/plain": [
       "<IPython.core.display.Javascript object>"
      ]
     },
     "metadata": {},
     "output_type": "display_data"
    },
    {
     "data": {
      "text/markdown": [
       "<span style=\"color:#33cc33\">Correct:</span> \n",
       "\n",
       "The newline character is just a single character! (Even though we represent it to Python using a combination of two characters.)"
      ],
      "text/plain": [
       "Correct: \n",
       "\n",
       "The newline character is just a single character! (Even though we represent it to Python using a combination of two characters.)"
      ]
     },
     "metadata": {},
     "output_type": "display_data"
    }
   ],
   "source": [
    "e = '\\n'\n",
    "length = len(e)\n",
    "q0.e.check()"
   ]
  },
  {
   "cell_type": "markdown",
   "id": "c44d909c",
   "metadata": {
    "papermill": {
     "duration": 0.00579,
     "end_time": "2025-07-05T10:17:07.766057",
     "exception": false,
     "start_time": "2025-07-05T10:17:07.760267",
     "status": "completed"
    },
    "tags": []
   },
   "source": [
    "# 1.\n",
    "\n",
    "There is a saying that \"Data scientists spend 80% of their time cleaning data, and 20% of their time complaining about cleaning data.\" Let's see if you can write a function to help clean US zip code data. Given a string, it should return whether or not that string represents a valid zip code. For our purposes, a valid zip code is any string consisting of exactly 5 digits.\n",
    "\n",
    "HINT: `str` has a method that will be useful here. Use `help(str)` to review a list of string methods."
   ]
  },
  {
   "cell_type": "code",
   "execution_count": 7,
   "id": "720e3555",
   "metadata": {
    "execution": {
     "iopub.execute_input": "2025-07-05T10:17:07.778631Z",
     "iopub.status.busy": "2025-07-05T10:17:07.778302Z",
     "iopub.status.idle": "2025-07-05T10:17:07.786224Z",
     "shell.execute_reply": "2025-07-05T10:17:07.785295Z"
    },
    "papermill": {
     "duration": 0.0158,
     "end_time": "2025-07-05T10:17:07.787592",
     "exception": false,
     "start_time": "2025-07-05T10:17:07.771792",
     "status": "completed"
    },
    "tags": []
   },
   "outputs": [
    {
     "data": {
      "application/javascript": [
       "parent.postMessage({\"jupyterEvent\": \"custom.exercise_interaction\", \"data\": {\"outcomeType\": 1, \"valueTowardsCompletion\": 0.3333333333333333, \"interactionType\": 1, \"questionType\": 2, \"questionId\": \"1_ZipValidator\", \"learnToolsVersion\": \"0.3.5\", \"failureMessage\": \"\", \"exceptionClass\": \"\", \"trace\": \"\"}}, \"*\")"
      ],
      "text/plain": [
       "<IPython.core.display.Javascript object>"
      ]
     },
     "metadata": {},
     "output_type": "display_data"
    },
    {
     "data": {
      "text/markdown": [
       "<span style=\"color:#33cc33\">Correct</span>"
      ],
      "text/plain": [
       "Correct"
      ]
     },
     "metadata": {},
     "output_type": "display_data"
    }
   ],
   "source": [
    "def is_valid_zip(zip_code):\n",
    "    \"\"\"Returns whether the input string is a valid (5 digit) zip code\n",
    "    \"\"\"\n",
    "    return len(zip_code) == 5 and zip_code.isdigit()\n",
    "    pass\n",
    "\n",
    "# Check your answer\n",
    "q1.check()"
   ]
  },
  {
   "cell_type": "code",
   "execution_count": 8,
   "id": "3fc45d26",
   "metadata": {
    "execution": {
     "iopub.execute_input": "2025-07-05T10:17:07.799925Z",
     "iopub.status.busy": "2025-07-05T10:17:07.799579Z",
     "iopub.status.idle": "2025-07-05T10:17:07.804133Z",
     "shell.execute_reply": "2025-07-05T10:17:07.803133Z"
    },
    "papermill": {
     "duration": 0.013494,
     "end_time": "2025-07-05T10:17:07.806269",
     "exception": false,
     "start_time": "2025-07-05T10:17:07.792775",
     "status": "completed"
    },
    "tags": []
   },
   "outputs": [],
   "source": [
    "#q1.hint()\n",
    "#q1.solution()"
   ]
  },
  {
   "cell_type": "markdown",
   "id": "e60d7d2d",
   "metadata": {
    "papermill": {
     "duration": 0.005848,
     "end_time": "2025-07-05T10:17:07.818199",
     "exception": false,
     "start_time": "2025-07-05T10:17:07.812351",
     "status": "completed"
    },
    "tags": []
   },
   "source": [
    "# 2.\n",
    "\n",
    "A researcher has gathered thousands of news articles. But she wants to focus her attention on articles including a specific word. Complete the function below to help her filter her list of articles.\n",
    "\n",
    "Your function should meet the following criteria:\n",
    "\n",
    "- Do not include documents where the keyword string shows up only as a part of a larger word. For example, if she were looking for the keyword “closed”, you would not include the string “enclosed.” \n",
    "- She does not want you to distinguish upper case from lower case letters. So the phrase “Closed the case.” would be included when the keyword is “closed”\n",
    "- Do not let periods or commas affect what is matched. “It is closed.” would be included when the keyword is “closed”. But you can assume there are no other types of punctuation."
   ]
  },
  {
   "cell_type": "code",
   "execution_count": 9,
   "id": "5d8eab58",
   "metadata": {
    "execution": {
     "iopub.execute_input": "2025-07-05T10:17:07.831540Z",
     "iopub.status.busy": "2025-07-05T10:17:07.831203Z",
     "iopub.status.idle": "2025-07-05T10:17:07.840532Z",
     "shell.execute_reply": "2025-07-05T10:17:07.839516Z"
    },
    "papermill": {
     "duration": 0.018189,
     "end_time": "2025-07-05T10:17:07.842305",
     "exception": false,
     "start_time": "2025-07-05T10:17:07.824116",
     "status": "completed"
    },
    "tags": []
   },
   "outputs": [
    {
     "data": {
      "application/javascript": [
       "parent.postMessage({\"jupyterEvent\": \"custom.exercise_interaction\", \"data\": {\"outcomeType\": 1, \"valueTowardsCompletion\": 0.3333333333333333, \"interactionType\": 1, \"questionType\": 2, \"questionId\": \"2_WordSearch\", \"learnToolsVersion\": \"0.3.5\", \"failureMessage\": \"\", \"exceptionClass\": \"\", \"trace\": \"\"}}, \"*\")"
      ],
      "text/plain": [
       "<IPython.core.display.Javascript object>"
      ]
     },
     "metadata": {},
     "output_type": "display_data"
    },
    {
     "data": {
      "text/markdown": [
       "<span style=\"color:#33cc33\">Correct</span>"
      ],
      "text/plain": [
       "Correct"
      ]
     },
     "metadata": {},
     "output_type": "display_data"
    }
   ],
   "source": [
    "def word_search(doc_list, keyword):\n",
    "    result = []\n",
    "    keyword_lower = keyword.lower()\n",
    "    \n",
    "    for idx, doc in enumerate(doc_list):\n",
    "        # Remove punctuation\n",
    "        clean_doc = doc.replace('.', '').replace(',', '')\n",
    "        # Lowercase\n",
    "        clean_doc = clean_doc.lower()\n",
    "        # Split into words\n",
    "        words = clean_doc.split()\n",
    "        # Check for exact match\n",
    "        if keyword_lower in words:\n",
    "            result.append(idx)\n",
    "    \n",
    "    return result\n",
    "\n",
    "    pass\n",
    "\n",
    "# Check your answer\n",
    "q2.check()"
   ]
  },
  {
   "cell_type": "code",
   "execution_count": 10,
   "id": "7bf51909",
   "metadata": {
    "execution": {
     "iopub.execute_input": "2025-07-05T10:17:07.854422Z",
     "iopub.status.busy": "2025-07-05T10:17:07.854018Z",
     "iopub.status.idle": "2025-07-05T10:17:07.858597Z",
     "shell.execute_reply": "2025-07-05T10:17:07.857668Z"
    },
    "papermill": {
     "duration": 0.012357,
     "end_time": "2025-07-05T10:17:07.860075",
     "exception": false,
     "start_time": "2025-07-05T10:17:07.847718",
     "status": "completed"
    },
    "tags": []
   },
   "outputs": [],
   "source": [
    "#q2.hint()\n",
    "#q2.solution()"
   ]
  },
  {
   "cell_type": "markdown",
   "id": "0dfed214",
   "metadata": {
    "papermill": {
     "duration": 0.0049,
     "end_time": "2025-07-05T10:17:07.870300",
     "exception": false,
     "start_time": "2025-07-05T10:17:07.865400",
     "status": "completed"
    },
    "tags": []
   },
   "source": [
    "# 3.\n",
    "\n",
    "Now the researcher wants to supply multiple keywords to search for. Complete the function below to help her.\n",
    "\n",
    "(You're encouraged to use the `word_search` function you just wrote when implementing this function. Reusing code in this way makes your programs more robust and readable - and it saves typing!)"
   ]
  },
  {
   "cell_type": "code",
   "execution_count": 11,
   "id": "9a859f9f",
   "metadata": {
    "execution": {
     "iopub.execute_input": "2025-07-05T10:17:07.881813Z",
     "iopub.status.busy": "2025-07-05T10:17:07.881503Z",
     "iopub.status.idle": "2025-07-05T10:17:07.889817Z",
     "shell.execute_reply": "2025-07-05T10:17:07.888921Z"
    },
    "papermill": {
     "duration": 0.016351,
     "end_time": "2025-07-05T10:17:07.891642",
     "exception": false,
     "start_time": "2025-07-05T10:17:07.875291",
     "status": "completed"
    },
    "tags": []
   },
   "outputs": [
    {
     "data": {
      "application/javascript": [
       "parent.postMessage({\"jupyterEvent\": \"custom.exercise_interaction\", \"data\": {\"outcomeType\": 1, \"valueTowardsCompletion\": 0.3333333333333333, \"interactionType\": 1, \"questionType\": 2, \"questionId\": \"3_MultiWordSearch\", \"learnToolsVersion\": \"0.3.5\", \"failureMessage\": \"\", \"exceptionClass\": \"\", \"trace\": \"\"}}, \"*\")"
      ],
      "text/plain": [
       "<IPython.core.display.Javascript object>"
      ]
     },
     "metadata": {},
     "output_type": "display_data"
    },
    {
     "data": {
      "text/markdown": [
       "<span style=\"color:#33cc33\">Correct</span>"
      ],
      "text/plain": [
       "Correct"
      ]
     },
     "metadata": {},
     "output_type": "display_data"
    }
   ],
   "source": [
    "def multi_word_search(doc_list, keywords):\n",
    "    result = {}\n",
    "    for keyword in keywords:\n",
    "        result[keyword] = word_search(doc_list, keyword)\n",
    "    return result\n",
    "\n",
    "    pass\n",
    "\n",
    "# Check your answer\n",
    "q3.check()"
   ]
  },
  {
   "cell_type": "code",
   "execution_count": 12,
   "id": "5971aaf8",
   "metadata": {
    "execution": {
     "iopub.execute_input": "2025-07-05T10:17:07.904580Z",
     "iopub.status.busy": "2025-07-05T10:17:07.904160Z",
     "iopub.status.idle": "2025-07-05T10:17:07.909297Z",
     "shell.execute_reply": "2025-07-05T10:17:07.908153Z"
    },
    "papermill": {
     "duration": 0.013748,
     "end_time": "2025-07-05T10:17:07.911215",
     "exception": false,
     "start_time": "2025-07-05T10:17:07.897467",
     "status": "completed"
    },
    "tags": []
   },
   "outputs": [],
   "source": [
    "#q3.solution()"
   ]
  },
  {
   "cell_type": "markdown",
   "id": "e836eed3",
   "metadata": {
    "papermill": {
     "duration": 0.005187,
     "end_time": "2025-07-05T10:17:07.921976",
     "exception": false,
     "start_time": "2025-07-05T10:17:07.916789",
     "status": "completed"
    },
    "tags": []
   },
   "source": [
    "# Keep Going\n",
    "\n",
    "You've learned a lot. But even the best programmers rely heavily on \"libraries\" of code from other programmers. You'll learn about that in **[the last lesson](https://www.kaggle.com/colinmorris/working-with-external-libraries)**.\n"
   ]
  },
  {
   "cell_type": "markdown",
   "id": "cbd52365",
   "metadata": {
    "papermill": {
     "duration": 0.005214,
     "end_time": "2025-07-05T10:17:07.932637",
     "exception": false,
     "start_time": "2025-07-05T10:17:07.927423",
     "status": "completed"
    },
    "tags": []
   },
   "source": [
    "---\n",
    "\n",
    "\n",
    "\n",
    "\n",
    "*Have questions or comments? Visit the [course discussion forum](https://www.kaggle.com/learn/python/discussion) to chat with other learners.*"
   ]
  }
 ],
 "metadata": {
  "kaggle": {
   "accelerator": "none",
   "dataSources": [],
   "isGpuEnabled": false,
   "isInternetEnabled": false,
   "language": "python",
   "sourceType": "notebook"
  },
  "kernelspec": {
   "display_name": "Python 3",
   "language": "python",
   "name": "python3"
  },
  "language_info": {
   "codemirror_mode": {
    "name": "ipython",
    "version": 3
   },
   "file_extension": ".py",
   "mimetype": "text/x-python",
   "name": "python",
   "nbconvert_exporter": "python",
   "pygments_lexer": "ipython3",
   "version": "3.11.11"
  },
  "learntools_metadata": {
   "lesson_index": 5,
   "type": "exercise"
  },
  "papermill": {
   "default_parameters": {},
   "duration": 8.405919,
   "end_time": "2025-07-05T10:17:08.559556",
   "environment_variables": {},
   "exception": null,
   "input_path": "__notebook__.ipynb",
   "output_path": "__notebook__.ipynb",
   "parameters": {},
   "start_time": "2025-07-05T10:17:00.153637",
   "version": "2.6.0"
  }
 },
 "nbformat": 4,
 "nbformat_minor": 5
}
